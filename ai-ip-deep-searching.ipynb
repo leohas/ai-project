{
  "nbformat": 4,
  "nbformat_minor": 0,
  "metadata": {
    "colab": {
      "name": "ai.ipynb",
      "provenance": [],
      "collapsed_sections": []
    },
    "kernelspec": {
      "name": "python3",
      "display_name": "Python 3"
    },
    "language_info": {
      "name": "python"
    }
  },
  "cells": [
    {
      "cell_type": "code",
      "execution_count": null,
      "metadata": {
        "id": "MGToMRqwPy4c"
      },
      "outputs": [],
      "source": [
        "### Criação de Classes\n",
        "\n",
        "## Classe das Sub-Redes\n",
        "class SubNetwork:\n",
        "  def __init__(self, left, right = None):\n",
        "    self.left = left\n",
        "    self.right = right\n",
        "  \n",
        "## Classe das Redes\n",
        "class Network:\n",
        "    def __init__(self, ip, parent = None, children = None):\n",
        "      self.ip = ip\n",
        "      self.parent = parent\n",
        "      self.children = children\n",
        "\n",
        "    def getIp(self): return self.ip\n",
        "    def getParent(self): return self.parent\n",
        "\n",
        "    def setParent(self, parent): self.parent = parent\n",
        "    def setChildren(self, children): self.children = children"
      ]
    },
    {
      "cell_type": "code",
      "source": [
        "### Instância de Dados\n",
        "\n",
        "## Dataset de Redes\n",
        "network1 = Network('000.000.000.001')\n",
        "network2 = Network('000.000.000.002', network1)\n",
        "network3 = Network('000.000.000.003', network1)\n",
        "network4 = Network('000.000.000.004', network2)\n",
        "network5 = Network('000.000.000.005', network2)\n",
        "network6 = Network('000.000.000.006', network3)\n",
        "network7 = Network('000.000.000.007', network3)\n",
        "\n",
        "# Hierarquia de Redes\n",
        "network1.setChildren(SubNetwork(network2, network3))\n",
        "network2.setChildren(SubNetwork(network4, network5))\n",
        "network3.setChildren(SubNetwork(network6, network7))\n",
        "\n",
        "### Dataset\n",
        "networks = [network1]"
      ],
      "metadata": {
        "id": "Dp6cdM0C4lrk"
      },
      "execution_count": 148,
      "outputs": []
    },
    {
      "cell_type": "code",
      "source": [
        "### Passagem de Parâmetros\n",
        "\n",
        "visitedNetworks = []\n",
        "\n",
        "finalIp = '000.000.000.007'"
      ],
      "metadata": {
        "id": "AYqVYnAn5gwv"
      },
      "execution_count": 149,
      "outputs": []
    },
    {
      "cell_type": "code",
      "source": [
        "### Busca em Profundidade\n",
        "\n",
        "## Função que calcula o custo da busca\n",
        "def calcSearchCost(network):\n",
        "  currentNetwork = network\n",
        "  cost = 0\n",
        "\n",
        "  while(currentNetwork):\n",
        "    if(currentNetwork.parent != None):\n",
        "      currentNetwork = currentNetwork.getParent()\n",
        "      cost += 1\n",
        "    else:\n",
        "      currentNetwork = None\n",
        "\n",
        "  return cost\n",
        "\n",
        "## Função que busca por IP de uma Rede\n",
        "def deepSearchByIP(finalIp):\n",
        "  for network in networks:\n",
        "    currentNetwork = network\n",
        "    visitedNetworks.append(currentNetwork.getIp())\n",
        "\n",
        "    while (currentNetwork):\n",
        "      if (currentNetwork.getIp() == finalIp):\n",
        "        searchCost = calcSearchCost(currentNetwork)\n",
        "        print(f'IP Found: {currentNetwork.getIp()}, Network: {currentNetwork}') \n",
        "        print(f'Cost of Search: {searchCost}')\n",
        "        break\n",
        "      else:\n",
        "        print('Network not found')\n",
        "\n",
        "      if(currentNetwork.children and currentNetwork.children.left and currentNetwork.children.left.getIp() not in visitedNetworks):\n",
        "        currentNetwork = currentNetwork.children.left\n",
        "      elif(currentNetwork.children and currentNetwork.children.right and currentNetwork.children.right.getIp() not in visitedNetworks):\n",
        "        currentNetwork = currentNetwork.children.right\n",
        "      elif((currentNetwork.children and currentNetwork.children.left and currentNetwork.children.right and currentNetwork.children.left.getIp() in visitedNetworks and currentNetwork.children.right.getIp() in visitedNetworks) or (currentNetwork.children == None)):\n",
        "        currentNetwork = currentNetwork.getParent()\n",
        "      else:\n",
        "        currentNetwork = None\n",
        "\n",
        "      if(currentNetwork and currentNetwork.getIp() not in visitedNetworks):\n",
        "        visitedNetworks.append(currentNetwork.getIp())\n",
        "\n",
        "deepSearchByIP(finalIp)\n",
        "print(' > '.join(visitedNetworks))"
      ],
      "metadata": {
        "colab": {
          "base_uri": "https://localhost:8080/"
        },
        "id": "5nBkigNA5jL0",
        "outputId": "4845a31f-de00-4b53-88ee-45f5c769c25b"
      },
      "execution_count": 150,
      "outputs": [
        {
          "output_type": "stream",
          "name": "stdout",
          "text": [
            "Network not found\n",
            "Network not found\n",
            "Network not found\n",
            "Network not found\n",
            "Network not found\n",
            "Network not found\n",
            "Network not found\n",
            "Network not found\n",
            "Network not found\n",
            "Network not found\n",
            "IP Found: 000.000.000.007, Network: <__main__.Network object at 0x7ff5802256d0>\n",
            "Cost of Search: 2\n",
            "000.000.000.001 > 000.000.000.002 > 000.000.000.004 > 000.000.000.005 > 000.000.000.003 > 000.000.000.006 > 000.000.000.007\n"
          ]
        }
      ]
    }
  ]
}