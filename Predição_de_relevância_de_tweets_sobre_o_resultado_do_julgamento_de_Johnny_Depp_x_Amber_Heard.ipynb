{
  "nbformat": 4,
  "nbformat_minor": 0,
  "metadata": {
    "colab": {
      "name": "Predição de relevância de tweets sobre o resultado do julgamento de Johnny Depp x Amber Heard",
      "provenance": [],
      "collapsed_sections": [],
      "include_colab_link": true
    },
    "language_info": {
      "codemirror_mode": {
        "name": "ipython",
        "version": 3
      },
      "file_extension": ".py",
      "mimetype": "text/x-python",
      "name": "python",
      "nbconvert_exporter": "python",
      "pygments_lexer": "ipython3",
      "version": "3.7.3"
    },
    "kernelspec": {
      "name": "python3",
      "display_name": "Python 3"
    },
    "accelerator": "GPU"
  },
  "cells": [
    {
      "cell_type": "markdown",
      "metadata": {
        "id": "view-in-github",
        "colab_type": "text"
      },
      "source": [
        "<a href=\"https://colab.research.google.com/github/leohas/ai-project/blob/master/Predi%C3%A7%C3%A3o_de_relev%C3%A2ncia_de_tweets_sobre_o_resultado_do_julgamento_de_Johnny_Depp_x_Amber_Heard.ipynb\" target=\"_parent\"><img src=\"https://colab.research.google.com/assets/colab-badge.svg\" alt=\"Open In Colab\"/></a>"
      ]
    },
    {
      "cell_type": "markdown",
      "source": [
        "# Predição de relevância de tweets sobre o resultado do julgamento de Johnny Depp x Amber Heard\n"
      ],
      "metadata": {
        "id": "5_gdmNvECUvl"
      }
    },
    {
      "cell_type": "markdown",
      "source": [
        "Importação de algumas dependências que utilizamos:\n",
        "\n",
        "\n",
        "*   Pandas\n",
        "*   Seaborn\n",
        "*   Matplotlib\n",
        "*   Joblib\n",
        "\n"
      ],
      "metadata": {
        "id": "gQ9_7sXDDJUF"
      }
    },
    {
      "cell_type": "code",
      "metadata": {
        "id": "LOoHuJ2iFzVa"
      },
      "source": [
        "import pandas as pd\n",
        "import seaborn as sns\n",
        "import matplotlib.pyplot as plt\n",
        "sns.set()\n",
        "\n",
        "from joblib import dump, load"
      ],
      "execution_count": null,
      "outputs": []
    },
    {
      "cell_type": "markdown",
      "source": [
        "**Importação do dataset armazenado no Drive**\n",
        "\n",
        "O dataset utilizado se chama *Twitter reacts to Johnny DEPP's win*. O mesmo foi encontrado numa busca manual no [Kaggle](https://www.kaggle.com/datasets/towhidultonmoy/twitter-reacts-to-johnny-depps-win-dataset?resource=download) e possui uma ótima qualidade de dados com cerca de 36 colunas relacionadas aos campos que definem a publicação. As colunas utilizadas nessa predição são:\n",
        "\n",
        "*   **likes_count** - define a quantidade de *likes* da publicação.\n",
        "*   **tweet** - define o conteúdo da mensagem do tweet.\n",
        "*   **language** - define a língua do conteúdo da mensagem do tweet.\n"
      ],
      "metadata": {
        "id": "TFU8PgViDZhn"
      }
    },
    {
      "cell_type": "code",
      "metadata": {
        "id": "OdkRwbq_G3_A",
        "outputId": "7349bd37-656a-44cf-853e-5c5403de466d",
        "colab": {
          "base_uri": "https://localhost:8080/"
        }
      },
      "source": [
        "from google.colab import drive\n",
        "drive.mount('/content/gdrive')"
      ],
      "execution_count": null,
      "outputs": [
        {
          "output_type": "stream",
          "name": "stdout",
          "text": [
            "Mounted at /content/gdrive\n"
          ]
        }
      ]
    },
    {
      "cell_type": "code",
      "metadata": {
        "id": "Cahir_nsFzVt"
      },
      "source": [
        "csv_file = '../content/gdrive/My Drive/johnny-depp-trial-tweets.csv'\n",
        "df = pd.read_csv(csv_file)"
      ],
      "execution_count": null,
      "outputs": []
    },
    {
      "cell_type": "markdown",
      "source": [
        "**Normalização de dados**\n",
        "\n",
        "Uma normalização de dados se fez necessária pois nossa predição irá considerar apenas tweets com o conteúdo em inglês. Dessa forma, utilizamos da coluna language disponível no dataset para selecionar apenas os artigos de um idioma específico, nesse caso o inglês."
      ],
      "metadata": {
        "id": "_NEH5YS7Eq3S"
      }
    },
    {
      "cell_type": "code",
      "metadata": {
        "id": "DWrLHvq6FzV0",
        "colab": {
          "base_uri": "https://localhost:8080/"
        },
        "outputId": "9a333b1e-b5fe-4f81-ca3a-3030d991b4ac"
      },
      "source": [
        "df = df[df['language'] == 'en']\n",
        "df['tweet'] = df['tweet'].astype('category')"
      ],
      "execution_count": null,
      "outputs": [
        {
          "output_type": "stream",
          "name": "stderr",
          "text": [
            "/usr/local/lib/python3.7/dist-packages/ipykernel_launcher.py:2: SettingWithCopyWarning: \n",
            "A value is trying to be set on a copy of a slice from a DataFrame.\n",
            "Try using .loc[row_indexer,col_indexer] = value instead\n",
            "\n",
            "See the caveats in the documentation: https://pandas.pydata.org/pandas-docs/stable/user_guide/indexing.html#returning-a-view-versus-a-copy\n",
            "  \n"
          ]
        }
      ]
    },
    {
      "cell_type": "markdown",
      "source": [
        "**Ilustração das colunas disponíveis no dataset**\n",
        "\n",
        "Ao total são 36 colunas disponíveis que definem desde informações relacionadas ao usuário que criou o tweet até o idioma da publicação e a quantidade de curtidas."
      ],
      "metadata": {
        "id": "M8qyCxkHFao3"
      }
    },
    {
      "cell_type": "code",
      "metadata": {
        "id": "JrnWEzSDFzV7",
        "outputId": "e7ae39fd-3479-4bfa-8681-79e2c04add5a",
        "colab": {
          "base_uri": "https://localhost:8080/"
        }
      },
      "source": [
        "df.info()"
      ],
      "execution_count": null,
      "outputs": [
        {
          "output_type": "stream",
          "name": "stdout",
          "text": [
            "<class 'pandas.core.frame.DataFrame'>\n",
            "Int64Index: 7948 entries, 0 to 10003\n",
            "Data columns (total 36 columns):\n",
            " #   Column           Non-Null Count  Dtype   \n",
            "---  ------           --------------  -----   \n",
            " 0   id               7948 non-null   int64   \n",
            " 1   conversation_id  7948 non-null   int64   \n",
            " 2   created_at       7948 non-null   object  \n",
            " 3   date             7948 non-null   object  \n",
            " 4   time             7948 non-null   object  \n",
            " 5   timezone         7948 non-null   int64   \n",
            " 6   user_id          7948 non-null   int64   \n",
            " 7   username         7948 non-null   object  \n",
            " 8   name             7948 non-null   object  \n",
            " 9   place            6 non-null      object  \n",
            " 10  tweet            7948 non-null   category\n",
            " 11  language         7948 non-null   object  \n",
            " 12  mentions         7948 non-null   object  \n",
            " 13  urls             7948 non-null   object  \n",
            " 14  photos           7948 non-null   object  \n",
            " 15  replies_count    7948 non-null   int64   \n",
            " 16  retweets_count   7948 non-null   int64   \n",
            " 17  likes_count      7948 non-null   int64   \n",
            " 18  hashtags         7948 non-null   object  \n",
            " 19  cashtags         7948 non-null   object  \n",
            " 20  link             7948 non-null   object  \n",
            " 21  retweet          7948 non-null   bool    \n",
            " 22  quote_url        439 non-null    object  \n",
            " 23  video            7948 non-null   int64   \n",
            " 24  thumbnail        1064 non-null   object  \n",
            " 25  near             0 non-null      float64 \n",
            " 26  geo              0 non-null      float64 \n",
            " 27  source           0 non-null      float64 \n",
            " 28  user_rt_id       0 non-null      float64 \n",
            " 29  user_rt          0 non-null      float64 \n",
            " 30  retweet_id       0 non-null      float64 \n",
            " 31  reply_to         7948 non-null   object  \n",
            " 32  retweet_date     0 non-null      float64 \n",
            " 33  translate        0 non-null      float64 \n",
            " 34  trans_src        0 non-null      float64 \n",
            " 35  trans_dest       0 non-null      float64 \n",
            "dtypes: bool(1), category(1), float64(10), int64(8), object(16)\n",
            "memory usage: 2.5+ MB\n"
          ]
        }
      ]
    },
    {
      "cell_type": "markdown",
      "source": [
        "**Ilustração de alguns dados de exemplo**"
      ],
      "metadata": {
        "id": "KVm_qRGNFxMh"
      }
    },
    {
      "cell_type": "code",
      "metadata": {
        "id": "cQDvumjKFzWF",
        "outputId": "6bca1907-074f-4378-e411-0211deb63be4",
        "colab": {
          "base_uri": "https://localhost:8080/",
          "height": 473
        }
      },
      "source": [
        "df.head()"
      ],
      "execution_count": null,
      "outputs": [
        {
          "output_type": "execute_result",
          "data": {
            "text/plain": [
              "                    id      conversation_id               created_at  \\\n",
              "0  1537470110251724801  1537470110251724801  2022-06-16 16:20:13 UTC   \n",
              "1  1537470081567006720  1537470081567006720  2022-06-16 16:20:06 UTC   \n",
              "2  1537470071911632896  1537470071911632896  2022-06-16 16:20:04 UTC   \n",
              "3  1537470068312915968  1537470068312915968  2022-06-16 16:20:03 UTC   \n",
              "5  1537469964440969217  1537469964440969217  2022-06-16 16:19:38 UTC   \n",
              "\n",
              "         date      time  timezone              user_id       username  \\\n",
              "0  2022-06-16  16:20:13         0  1377452573326643203  thatcanongurl   \n",
              "1  2022-06-16  16:20:06         0  1522401491012755457  robynbland567   \n",
              "2  2022-06-16  16:20:04         0  1338250209361600517      n3onrobot   \n",
              "3  2022-06-16  16:20:03         0             10409622   thedextazlab   \n",
              "5  2022-06-16  16:19:38         0           3392805053  mshollybennet   \n",
              "\n",
              "                                 name place  ... geo source user_rt_id  \\\n",
              "0                TheCanonGurlTheories   NaN  ... NaN    NaN        NaN   \n",
              "1                         robyn bland   NaN  ... NaN    NaN        NaN   \n",
              "2  Tyler Datta 🇺🇲 pronouns = Fuck/Off   NaN  ... NaN    NaN        NaN   \n",
              "3                       David Kisamfu   NaN  ... NaN    NaN        NaN   \n",
              "5                        Holly Bennet   NaN  ... NaN    NaN        NaN   \n",
              "\n",
              "  user_rt retweet_id  reply_to  retweet_date  translate trans_src trans_dest  \n",
              "0     NaN        NaN        []           NaN        NaN       NaN        NaN  \n",
              "1     NaN        NaN        []           NaN        NaN       NaN        NaN  \n",
              "2     NaN        NaN        []           NaN        NaN       NaN        NaN  \n",
              "3     NaN        NaN        []           NaN        NaN       NaN        NaN  \n",
              "5     NaN        NaN        []           NaN        NaN       NaN        NaN  \n",
              "\n",
              "[5 rows x 36 columns]"
            ],
            "text/html": [
              "\n",
              "  <div id=\"df-de0dc369-90f0-4770-8fcc-c43ec6d45e77\">\n",
              "    <div class=\"colab-df-container\">\n",
              "      <div>\n",
              "<style scoped>\n",
              "    .dataframe tbody tr th:only-of-type {\n",
              "        vertical-align: middle;\n",
              "    }\n",
              "\n",
              "    .dataframe tbody tr th {\n",
              "        vertical-align: top;\n",
              "    }\n",
              "\n",
              "    .dataframe thead th {\n",
              "        text-align: right;\n",
              "    }\n",
              "</style>\n",
              "<table border=\"1\" class=\"dataframe\">\n",
              "  <thead>\n",
              "    <tr style=\"text-align: right;\">\n",
              "      <th></th>\n",
              "      <th>id</th>\n",
              "      <th>conversation_id</th>\n",
              "      <th>created_at</th>\n",
              "      <th>date</th>\n",
              "      <th>time</th>\n",
              "      <th>timezone</th>\n",
              "      <th>user_id</th>\n",
              "      <th>username</th>\n",
              "      <th>name</th>\n",
              "      <th>place</th>\n",
              "      <th>...</th>\n",
              "      <th>geo</th>\n",
              "      <th>source</th>\n",
              "      <th>user_rt_id</th>\n",
              "      <th>user_rt</th>\n",
              "      <th>retweet_id</th>\n",
              "      <th>reply_to</th>\n",
              "      <th>retweet_date</th>\n",
              "      <th>translate</th>\n",
              "      <th>trans_src</th>\n",
              "      <th>trans_dest</th>\n",
              "    </tr>\n",
              "  </thead>\n",
              "  <tbody>\n",
              "    <tr>\n",
              "      <th>0</th>\n",
              "      <td>1537470110251724801</td>\n",
              "      <td>1537470110251724801</td>\n",
              "      <td>2022-06-16 16:20:13 UTC</td>\n",
              "      <td>2022-06-16</td>\n",
              "      <td>16:20:13</td>\n",
              "      <td>0</td>\n",
              "      <td>1377452573326643203</td>\n",
              "      <td>thatcanongurl</td>\n",
              "      <td>TheCanonGurlTheories</td>\n",
              "      <td>NaN</td>\n",
              "      <td>...</td>\n",
              "      <td>NaN</td>\n",
              "      <td>NaN</td>\n",
              "      <td>NaN</td>\n",
              "      <td>NaN</td>\n",
              "      <td>NaN</td>\n",
              "      <td>[]</td>\n",
              "      <td>NaN</td>\n",
              "      <td>NaN</td>\n",
              "      <td>NaN</td>\n",
              "      <td>NaN</td>\n",
              "    </tr>\n",
              "    <tr>\n",
              "      <th>1</th>\n",
              "      <td>1537470081567006720</td>\n",
              "      <td>1537470081567006720</td>\n",
              "      <td>2022-06-16 16:20:06 UTC</td>\n",
              "      <td>2022-06-16</td>\n",
              "      <td>16:20:06</td>\n",
              "      <td>0</td>\n",
              "      <td>1522401491012755457</td>\n",
              "      <td>robynbland567</td>\n",
              "      <td>robyn bland</td>\n",
              "      <td>NaN</td>\n",
              "      <td>...</td>\n",
              "      <td>NaN</td>\n",
              "      <td>NaN</td>\n",
              "      <td>NaN</td>\n",
              "      <td>NaN</td>\n",
              "      <td>NaN</td>\n",
              "      <td>[]</td>\n",
              "      <td>NaN</td>\n",
              "      <td>NaN</td>\n",
              "      <td>NaN</td>\n",
              "      <td>NaN</td>\n",
              "    </tr>\n",
              "    <tr>\n",
              "      <th>2</th>\n",
              "      <td>1537470071911632896</td>\n",
              "      <td>1537470071911632896</td>\n",
              "      <td>2022-06-16 16:20:04 UTC</td>\n",
              "      <td>2022-06-16</td>\n",
              "      <td>16:20:04</td>\n",
              "      <td>0</td>\n",
              "      <td>1338250209361600517</td>\n",
              "      <td>n3onrobot</td>\n",
              "      <td>Tyler Datta 🇺🇲 pronouns = Fuck/Off</td>\n",
              "      <td>NaN</td>\n",
              "      <td>...</td>\n",
              "      <td>NaN</td>\n",
              "      <td>NaN</td>\n",
              "      <td>NaN</td>\n",
              "      <td>NaN</td>\n",
              "      <td>NaN</td>\n",
              "      <td>[]</td>\n",
              "      <td>NaN</td>\n",
              "      <td>NaN</td>\n",
              "      <td>NaN</td>\n",
              "      <td>NaN</td>\n",
              "    </tr>\n",
              "    <tr>\n",
              "      <th>3</th>\n",
              "      <td>1537470068312915968</td>\n",
              "      <td>1537470068312915968</td>\n",
              "      <td>2022-06-16 16:20:03 UTC</td>\n",
              "      <td>2022-06-16</td>\n",
              "      <td>16:20:03</td>\n",
              "      <td>0</td>\n",
              "      <td>10409622</td>\n",
              "      <td>thedextazlab</td>\n",
              "      <td>David Kisamfu</td>\n",
              "      <td>NaN</td>\n",
              "      <td>...</td>\n",
              "      <td>NaN</td>\n",
              "      <td>NaN</td>\n",
              "      <td>NaN</td>\n",
              "      <td>NaN</td>\n",
              "      <td>NaN</td>\n",
              "      <td>[]</td>\n",
              "      <td>NaN</td>\n",
              "      <td>NaN</td>\n",
              "      <td>NaN</td>\n",
              "      <td>NaN</td>\n",
              "    </tr>\n",
              "    <tr>\n",
              "      <th>5</th>\n",
              "      <td>1537469964440969217</td>\n",
              "      <td>1537469964440969217</td>\n",
              "      <td>2022-06-16 16:19:38 UTC</td>\n",
              "      <td>2022-06-16</td>\n",
              "      <td>16:19:38</td>\n",
              "      <td>0</td>\n",
              "      <td>3392805053</td>\n",
              "      <td>mshollybennet</td>\n",
              "      <td>Holly Bennet</td>\n",
              "      <td>NaN</td>\n",
              "      <td>...</td>\n",
              "      <td>NaN</td>\n",
              "      <td>NaN</td>\n",
              "      <td>NaN</td>\n",
              "      <td>NaN</td>\n",
              "      <td>NaN</td>\n",
              "      <td>[]</td>\n",
              "      <td>NaN</td>\n",
              "      <td>NaN</td>\n",
              "      <td>NaN</td>\n",
              "      <td>NaN</td>\n",
              "    </tr>\n",
              "  </tbody>\n",
              "</table>\n",
              "<p>5 rows × 36 columns</p>\n",
              "</div>\n",
              "      <button class=\"colab-df-convert\" onclick=\"convertToInteractive('df-de0dc369-90f0-4770-8fcc-c43ec6d45e77')\"\n",
              "              title=\"Convert this dataframe to an interactive table.\"\n",
              "              style=\"display:none;\">\n",
              "        \n",
              "  <svg xmlns=\"http://www.w3.org/2000/svg\" height=\"24px\"viewBox=\"0 0 24 24\"\n",
              "       width=\"24px\">\n",
              "    <path d=\"M0 0h24v24H0V0z\" fill=\"none\"/>\n",
              "    <path d=\"M18.56 5.44l.94 2.06.94-2.06 2.06-.94-2.06-.94-.94-2.06-.94 2.06-2.06.94zm-11 1L8.5 8.5l.94-2.06 2.06-.94-2.06-.94L8.5 2.5l-.94 2.06-2.06.94zm10 10l.94 2.06.94-2.06 2.06-.94-2.06-.94-.94-2.06-.94 2.06-2.06.94z\"/><path d=\"M17.41 7.96l-1.37-1.37c-.4-.4-.92-.59-1.43-.59-.52 0-1.04.2-1.43.59L10.3 9.45l-7.72 7.72c-.78.78-.78 2.05 0 2.83L4 21.41c.39.39.9.59 1.41.59.51 0 1.02-.2 1.41-.59l7.78-7.78 2.81-2.81c.8-.78.8-2.07 0-2.86zM5.41 20L4 18.59l7.72-7.72 1.47 1.35L5.41 20z\"/>\n",
              "  </svg>\n",
              "      </button>\n",
              "      \n",
              "  <style>\n",
              "    .colab-df-container {\n",
              "      display:flex;\n",
              "      flex-wrap:wrap;\n",
              "      gap: 12px;\n",
              "    }\n",
              "\n",
              "    .colab-df-convert {\n",
              "      background-color: #E8F0FE;\n",
              "      border: none;\n",
              "      border-radius: 50%;\n",
              "      cursor: pointer;\n",
              "      display: none;\n",
              "      fill: #1967D2;\n",
              "      height: 32px;\n",
              "      padding: 0 0 0 0;\n",
              "      width: 32px;\n",
              "    }\n",
              "\n",
              "    .colab-df-convert:hover {\n",
              "      background-color: #E2EBFA;\n",
              "      box-shadow: 0px 1px 2px rgba(60, 64, 67, 0.3), 0px 1px 3px 1px rgba(60, 64, 67, 0.15);\n",
              "      fill: #174EA6;\n",
              "    }\n",
              "\n",
              "    [theme=dark] .colab-df-convert {\n",
              "      background-color: #3B4455;\n",
              "      fill: #D2E3FC;\n",
              "    }\n",
              "\n",
              "    [theme=dark] .colab-df-convert:hover {\n",
              "      background-color: #434B5C;\n",
              "      box-shadow: 0px 1px 3px 1px rgba(0, 0, 0, 0.15);\n",
              "      filter: drop-shadow(0px 1px 2px rgba(0, 0, 0, 0.3));\n",
              "      fill: #FFFFFF;\n",
              "    }\n",
              "  </style>\n",
              "\n",
              "      <script>\n",
              "        const buttonEl =\n",
              "          document.querySelector('#df-de0dc369-90f0-4770-8fcc-c43ec6d45e77 button.colab-df-convert');\n",
              "        buttonEl.style.display =\n",
              "          google.colab.kernel.accessAllowed ? 'block' : 'none';\n",
              "\n",
              "        async function convertToInteractive(key) {\n",
              "          const element = document.querySelector('#df-de0dc369-90f0-4770-8fcc-c43ec6d45e77');\n",
              "          const dataTable =\n",
              "            await google.colab.kernel.invokeFunction('convertToInteractive',\n",
              "                                                     [key], {});\n",
              "          if (!dataTable) return;\n",
              "\n",
              "          const docLinkHtml = 'Like what you see? Visit the ' +\n",
              "            '<a target=\"_blank\" href=https://colab.research.google.com/notebooks/data_table.ipynb>data table notebook</a>'\n",
              "            + ' to learn more about interactive tables.';\n",
              "          element.innerHTML = '';\n",
              "          dataTable['output_type'] = 'display_data';\n",
              "          await google.colab.output.renderOutput(dataTable, element);\n",
              "          const docLink = document.createElement('div');\n",
              "          docLink.innerHTML = docLinkHtml;\n",
              "          element.appendChild(docLink);\n",
              "        }\n",
              "      </script>\n",
              "    </div>\n",
              "  </div>\n",
              "  "
            ]
          },
          "metadata": {},
          "execution_count": 7
        }
      ]
    },
    {
      "cell_type": "markdown",
      "source": [
        "**Definição da função de visualização de dados**"
      ],
      "metadata": {
        "id": "8Z5A0FYmPC97"
      }
    },
    {
      "cell_type": "code",
      "source": [
        "def plot(df, x='likes_count', title='Likes distribution', xlabel='likes', ylim=100):\n",
        "    ax = sns.countplot(x=x, data=df)\n",
        "    ax.set_title(title)\n",
        "    ax.set_xlabel(xlabel)\n",
        "    for rect in ax.containers[0]:\n",
        "        tw = rect.get_width() / 2.\n",
        "        tx = rect.get_x() + tw\n",
        "        height = rect.get_height()\n",
        "        ty = 1.05 * height\n",
        "        ax.text(tx, ty, height, ha='center')\n",
        "\n",
        "    ax.set_ylim(0, ylim)"
      ],
      "metadata": {
        "id": "SS8G0Dq5-PpL"
      },
      "execution_count": null,
      "outputs": []
    },
    {
      "cell_type": "markdown",
      "source": [
        "**Ilustrando os 50 primeiros dados:**"
      ],
      "metadata": {
        "id": "CHoNpepFPPlo"
      }
    },
    {
      "cell_type": "code",
      "source": [
        "plot(df[:50])"
      ],
      "metadata": {
        "colab": {
          "base_uri": "https://localhost:8080/",
          "height": 301
        },
        "id": "SDLNl7SvPQEg",
        "outputId": "9e07c01c-bb96-4056-9db1-448972a0e09b"
      },
      "execution_count": null,
      "outputs": [
        {
          "output_type": "display_data",
          "data": {
            "text/plain": [
              "<Figure size 432x288 with 1 Axes>"
            ],
            "image/png": "[encoded data removed]"
          },
          "metadata": {}
        }
      ]
    },
    {
      "cell_type": "markdown",
      "source": [
        "**Aqui estamos gerando as labels binárias de maneira superficial. No cenário em questão estamos considerando como tweet não relevante aqueles que possuem menos de 100 likes e como tweet relevante aqueles que possuem mais de 100 likes.**"
      ],
      "metadata": {
        "id": "p7fYEFq7RhAd"
      }
    },
    {
      "cell_type": "code",
      "source": [
        "def generate_labels(df, min_set=None):\n",
        "    count = df['tweet'].str.len()\n",
        "    df = df[(count > 3) | (count < 4000)].copy()\n",
        "    \n",
        "    if min_set is None:\n",
        "        min_set = df['likes_count'].value_counts().min() * 4\n",
        "    \n",
        "    tweetsWithLessThan100Likes = df[df['likes_count'] <= 100].iloc[:min_set // 2]\n",
        "    notHypedTweets = pd.concat([tweetsWithLessThan100Likes])\n",
        "    notHypedTweets['label'] = 0\n",
        "    \n",
        "    tweetsWithMoreThan100Likes = df[df['likes_count'] > 100].iloc[:min_set // 2]\n",
        "    hypedTweets = pd.concat([tweetsWithMoreThan100Likes])\n",
        "    hypedTweets['label'] = 1\n",
        "    \n",
        "    dataset = pd.concat([notHypedTweets, hypedTweets])\n",
        "    dataset.sort_index(inplace=True)\n",
        "    \n",
        "    return dataset\n",
        "\n",
        "dataset = generate_labels(df,  min_set=50000)"
      ],
      "metadata": {
        "id": "1nqXPGJU6MnL"
      },
      "execution_count": null,
      "outputs": []
    },
    {
      "cell_type": "markdown",
      "source": [
        "**Aqui está uma ilustração da proporção entre tweets relevantes e não relevantes:**"
      ],
      "metadata": {
        "id": "ZYr0DPyaR67F"
      }
    },
    {
      "cell_type": "code",
      "metadata": {
        "id": "7Zbbv7WLzMvi",
        "outputId": "9a0e85b9-eeee-4feb-8c0e-996391205b5c",
        "colab": {
          "base_uri": "https://localhost:8080/",
          "height": 338
        }
      },
      "source": [
        "texts = dataset['tweet'].astype(str)\n",
        "labels = dataset['label'].astype('int32')\n",
        "\n",
        "print('texts size: ', texts.size)\n",
        "print('labels size: ', labels.size)\n",
        "\n",
        "plot(pd.concat([texts, labels], axis=1), x='label', title='Equalized data set', xlabel='0 - Not Popular | 1 - Popular', ylim=10000)"
      ],
      "execution_count": null,
      "outputs": [
        {
          "output_type": "stream",
          "name": "stdout",
          "text": [
            "texts size:  7948\n",
            "labels size:  7948\n"
          ]
        },
        {
          "output_type": "display_data",
          "data": {
            "text/plain": [
              "<Figure size 432x288 with 1 Axes>"
            ],
            "image/png": "[encoded data removed]"
          },
          "metadata": {}
        }
      ]
    },
    {
      "cell_type": "markdown",
      "source": [
        "**Iniciando a definição do modelo:**"
      ],
      "metadata": {
        "id": "BKahOm4OSxwS"
      }
    },
    {
      "cell_type": "code",
      "metadata": {
        "id": "1nZXxIPGFzWp"
      },
      "source": [
        "from nltk import word_tokenize\n",
        "import nltk\n",
        "import numpy as np\n",
        "\n",
        "from keras.layers import Embedding\n",
        "from keras.initializers import Constant\n",
        "from keras.preprocessing.sequence import pad_sequences"
      ],
      "execution_count": null,
      "outputs": []
    },
    {
      "cell_type": "code",
      "metadata": {
        "id": "643ZDMedmFFc"
      },
      "source": [
        "MAX_NUM_WORDS = 20000\n",
        "MAX_SEQUENCE_LENGTH = 400\n",
        "EMBEDDING_DIM = 100\n",
        "VALIDATION_SPLIT = .1"
      ],
      "execution_count": null,
      "outputs": []
    },
    {
      "cell_type": "code",
      "metadata": {
        "id": "6t0xbvT8pppJ",
        "colab": {
          "base_uri": "https://localhost:8080/"
        },
        "outputId": "46dfb49b-a4d2-4c46-abfd-f9600246c44f"
      },
      "source": [
        "from keras.layers import Dense, GlobalMaxPooling1D\n",
        "from keras.layers import Conv1D, MaxPooling1D, Embedding, Input\n",
        "from keras.models import Model\n",
        "from keras.initializers import Constant\n",
        "\n",
        "from keras.callbacks import ModelCheckpoint\n",
        "from keras import backend as K\n",
        "\n",
        "K.clear_session()\n",
        "\n",
        "nltk.download('punkt')"
      ],
      "execution_count": null,
      "outputs": [
        {
          "output_type": "stream",
          "name": "stderr",
          "text": [
            "[nltk_data] Downloading package punkt to /root/nltk_data...\n",
            "[nltk_data]   Unzipping tokenizers/punkt.zip.\n"
          ]
        },
        {
          "output_type": "execute_result",
          "data": {
            "text/plain": [
              "True"
            ]
          },
          "metadata": {},
          "execution_count": 14
        }
      ]
    },
    {
      "cell_type": "markdown",
      "source": [
        "Definindo a função que irá ler o arquivo de definição de representações semânticas de palavras por meio de vetores. O utilizado é o [GloVe](https://nlp.stanford.edu/projects/glove/) que nos possibilita tratar da maneira ideal os casos de palavras como:\n",
        "\n",
        "\n",
        "\n",
        "```\n",
        "Atual: She didn't do that => ['she', 'did', 'nt', 'do', 'that]\n",
        "Após GloVe: She didn't do that => ['she', 'did', 'not', 'do', 'that]\n",
        "```\n",
        "\n"
      ],
      "metadata": {
        "id": "yQ4YHVf1S4MY"
      }
    },
    {
      "cell_type": "code",
      "source": [
        "def read_glove_vecs(glove_file):\n",
        "    with open(glove_file, 'r') as f:\n",
        "        embeddings_vecs = {}\n",
        "        for line in f:\n",
        "            word, coefs = line.split(maxsplit=1)\n",
        "            coefs = np.fromstring(coefs, 'f', sep=' ')\n",
        "            embeddings_vecs[word] = coefs\n",
        "    \n",
        "    return embeddings_vecs"
      ],
      "metadata": {
        "id": "tuh6komUmoaz"
      },
      "execution_count": null,
      "outputs": []
    },
    {
      "cell_type": "code",
      "source": [
        "embeddings_vecs = read_glove_vecs('../content/gdrive/My Drive/glove.6B.100d.txt')\n",
        "\n",
        "print('Foram encontrados %s vetores de palavras.' % len(embeddings_vecs))"
      ],
      "metadata": {
        "colab": {
          "base_uri": "https://localhost:8080/"
        },
        "id": "upWD9SA-mo1_",
        "outputId": "a46fd931-52a6-490f-f9e6-2fd849dc8f55"
      },
      "execution_count": null,
      "outputs": [
        {
          "output_type": "stream",
          "name": "stdout",
          "text": [
            "Foram encontrados 400000 vetores de palavras.\n"
          ]
        }
      ]
    },
    {
      "cell_type": "code",
      "source": [
        "from scipy.spatial.distance import cosine\n",
        "\n",
        "assert \"don't\" not in embeddings_vecs\n",
        "\n",
        "word = {}\n",
        "word[\"n't\"] = embeddings_vecs[\"n't\"]\n",
        "word[\"not\"] = embeddings_vecs[\"not\"]\n",
        "\n",
        "print(\"A similaridade entre %s e %s é %f\" % (\"n't\", \"not\", 1 - cosine(word[\"n't\"], word[\"not\"])))"
      ],
      "metadata": {
        "colab": {
          "base_uri": "https://localhost:8080/"
        },
        "id": "KyE2X9lUmo7u",
        "outputId": "93e527b8-e12a-44dc-a356-89fdeca831a7"
      },
      "execution_count": null,
      "outputs": [
        {
          "output_type": "stream",
          "name": "stdout",
          "text": [
            "A similaridade entre n't e not é 0.901041\n"
          ]
        }
      ]
    },
    {
      "cell_type": "markdown",
      "source": [
        "**Definindo a função que irá transformar texto em sequência de palavras**"
      ],
      "metadata": {
        "id": "Mc1yVqOzVSGF"
      }
    },
    {
      "cell_type": "code",
      "metadata": {
        "id": "O9njD12SFzXe",
        "outputId": "2037bee6-76d0-431f-b999-3929259ccf59",
        "colab": {
          "base_uri": "https://localhost:8080/"
        }
      },
      "source": [
        "from keras_preprocessing import text\n",
        "\n",
        "def _text_to_word_sequence(text, filters='\"#$%&()*+,-./:;<=>?@[\\\\]^_`{|}~\\t\\n',lower=True, split=\" \"):\n",
        "    text = text.lower()\n",
        "    \n",
        "    translate_dict = dict((c, split) for c in filters)\n",
        "    translate_map = str.maketrans(translate_dict)\n",
        "    text = text.translate(translate_map)\n",
        "    \n",
        "    seq = word_tokenize(text)\n",
        "    return [i for i in seq if i]\n",
        "\n",
        "text.text_to_word_sequence = _text_to_word_sequence\n",
        "\n",
        "tokenizer = text.Tokenizer(num_words=MAX_NUM_WORDS)\n",
        "tokenizer.fit_on_texts(texts)\n",
        "sequences = tokenizer.texts_to_sequences(texts)\n",
        "word_index = tokenizer.word_index\n",
        "\n",
        "print('Foram encontrados %s tokens únicos.' % len(word_index))"
      ],
      "execution_count": null,
      "outputs": [
        {
          "output_type": "stream",
          "name": "stdout",
          "text": [
            "Foram encontrados 17425 tokens únicos.\n"
          ]
        }
      ]
    },
    {
      "cell_type": "code",
      "metadata": {
        "id": "9Bo4PMALmb5C"
      },
      "source": [
        "data = pad_sequences(sequences, maxlen=MAX_SEQUENCE_LENGTH)"
      ],
      "execution_count": null,
      "outputs": []
    },
    {
      "cell_type": "code",
      "metadata": {
        "id": "ex8D5E-u5BL5",
        "outputId": "4a4a1a5b-ed1a-41fc-ae3e-046c9045a2eb",
        "colab": {
          "base_uri": "https://localhost:8080/"
        }
      },
      "source": [
        "import pprint as pp\n",
        "\n",
        "pp.pprint(data[0].tolist(), width=200, compact=True)"
      ],
      "execution_count": null,
      "outputs": [
        {
          "output_type": "stream",
          "name": "stdout",
          "text": [
            "[0, 0, 0, 0, 0, 0, 0, 0, 0, 0, 0, 0, 0, 0, 0, 0, 0, 0, 0, 0, 0, 0, 0, 0, 0, 0, 0, 0, 0, 0, 0, 0, 0, 0, 0, 0, 0, 0, 0, 0, 0, 0, 0, 0, 0, 0, 0, 0, 0, 0, 0, 0, 0, 0, 0, 0, 0, 0, 0, 0, 0, 0, 0, 0, 0, 0,\n",
            " 0, 0, 0, 0, 0, 0, 0, 0, 0, 0, 0, 0, 0, 0, 0, 0, 0, 0, 0, 0, 0, 0, 0, 0, 0, 0, 0, 0, 0, 0, 0, 0, 0, 0, 0, 0, 0, 0, 0, 0, 0, 0, 0, 0, 0, 0, 0, 0, 0, 0, 0, 0, 0, 0, 0, 0, 0, 0, 0, 0, 0, 0, 0, 0, 0, 0,\n",
            " 0, 0, 0, 0, 0, 0, 0, 0, 0, 0, 0, 0, 0, 0, 0, 0, 0, 0, 0, 0, 0, 0, 0, 0, 0, 0, 0, 0, 0, 0, 0, 0, 0, 0, 0, 0, 0, 0, 0, 0, 0, 0, 0, 0, 0, 0, 0, 0, 0, 0, 0, 0, 0, 0, 0, 0, 0, 0, 0, 0, 0, 0, 0, 0, 0, 0,\n",
            " 0, 0, 0, 0, 0, 0, 0, 0, 0, 0, 0, 0, 0, 0, 0, 0, 0, 0, 0, 0, 0, 0, 0, 0, 0, 0, 0, 0, 0, 0, 0, 0, 0, 0, 0, 0, 0, 0, 0, 0, 0, 0, 0, 0, 0, 0, 0, 0, 0, 0, 0, 0, 0, 0, 0, 0, 0, 0, 0, 0, 0, 0, 0, 0, 0, 0,\n",
            " 0, 0, 0, 0, 0, 0, 0, 0, 0, 0, 0, 0, 0, 0, 0, 0, 0, 0, 0, 0, 0, 0, 0, 0, 0, 0, 0, 0, 0, 0, 0, 0, 0, 0, 0, 0, 0, 0, 0, 0, 0, 0, 0, 0, 0, 0, 0, 0, 0, 0, 0, 0, 0, 0, 0, 0, 0, 0, 0, 0, 0, 0, 0, 0, 0, 0,\n",
            " 0, 0, 0, 0, 0, 0, 0, 0, 0, 0, 0, 0, 0, 0, 0, 0, 0, 0, 0, 0, 0, 0, 0, 0, 0, 0, 0, 0, 0, 0, 0, 0, 0, 0, 0, 0, 0, 0, 0, 0, 0, 0, 0, 0, 0, 5961, 150, 27, 17, 407, 5962, 139, 18, 1, 4, 3, 2, 52, 21, 164,\n",
            " 67, 8, 6, 7, 5963, 48, 512, 843, 1166, 102]\n"
          ]
        }
      ]
    },
    {
      "cell_type": "markdown",
      "source": [
        "**Definindo a função de pré-treino embedding matrix:**\n",
        "\n",
        "*   **embeddings_vecs** é um dicionário com palavras e seus respectivos vetores\n",
        "*   **word_index** é um dicionário com palavras e seus indexes\n",
        "\n",
        "Obs: Para o caso de palavras que não forem encontradas, será retornado o index 0\n"
      ],
      "metadata": {
        "id": "ZjgaugzEVo8x"
      }
    },
    {
      "cell_type": "code",
      "source": [
        "def pretrained_embedding_matrix(embeddings_vecs, word_index):\n",
        "    \"\"\"\n",
        "    embeddings_vecs -- Dicionário com palavras e seus respectivos vetores {word: coefs}\n",
        "    word_index -- Dicionário com palavras e seus respectivos indexes\n",
        "    \"\"\"\n",
        "    \n",
        "    num_words = min(MAX_NUM_WORDS, len(word_index)) + 1\n",
        "    \n",
        "    embedding_matrix = np.zeros((num_words, EMBEDDING_DIM))\n",
        "    \n",
        "    for word, i in word_index.items():\n",
        "        if i > MAX_NUM_WORDS:\n",
        "            break\n",
        "        embedding_vector = embeddings_vecs.get(word)\n",
        "        if embedding_vector is not None:\n",
        "            # words not found in embedding index will be all-zeros.\n",
        "            embedding_matrix[i] = embedding_vector\n",
        "\n",
        "    \n",
        "    return embedding_matrix"
      ],
      "metadata": {
        "id": "Re9qpAFPmWZL"
      },
      "execution_count": null,
      "outputs": []
    },
    {
      "cell_type": "code",
      "source": [
        "embedding_matrix = pretrained_embedding_matrix(embeddings_vecs, word_index)"
      ],
      "metadata": {
        "id": "6iLiw_LwrFWZ"
      },
      "execution_count": null,
      "outputs": []
    },
    {
      "cell_type": "markdown",
      "source": [
        "**Divide os dados entre dados de treino e dados de validação:**"
      ],
      "metadata": {
        "id": "7lEQKUJRWaga"
      }
    },
    {
      "cell_type": "code",
      "metadata": {
        "id": "FSglNAEfFzX8"
      },
      "source": [
        "# Split the date into train and validation sets\n",
        "num_validation_samples = int(VALIDATION_SPLIT * data.shape[0])\n",
        "\n",
        "X_train = data[:-num_validation_samples]\n",
        "y_train = labels[:-num_validation_samples]\n",
        "X_val = data[-num_validation_samples:]\n",
        "y_val = labels[-num_validation_samples:]"
      ],
      "execution_count": null,
      "outputs": []
    },
    {
      "cell_type": "code",
      "metadata": {
        "id": "tq8BMi7dFzYA",
        "outputId": "7424e646-0fda-4487-c1e7-60c3be635425",
        "colab": {
          "base_uri": "https://localhost:8080/"
        }
      },
      "source": [
        "print('X_train shape:', X_train.shape)\n",
        "print('X_val shape:', X_val.shape)\n",
        "print('y_train shape:', y_train.shape, 'type', y_train.dtype)\n",
        "print('y_val shape:', y_val.shape, 'type', y_val.dtype)"
      ],
      "execution_count": null,
      "outputs": [
        {
          "output_type": "stream",
          "name": "stdout",
          "text": [
            "X_train shape: (7154, 400)\n",
            "X_val shape: (794, 400)\n",
            "y_train shape: (7154,) type int32\n",
            "y_val shape: (794,) type int32\n"
          ]
        }
      ]
    },
    {
      "cell_type": "markdown",
      "source": [
        "**Define o modelo utilizando Convolutional Neural Network:**"
      ],
      "metadata": {
        "id": "sqImgN5wWytr"
      }
    },
    {
      "cell_type": "code",
      "source": [
        "from keras.layers import Dense, GlobalMaxPooling1D\n",
        "from keras.layers import Conv1D, MaxPooling1D, Embedding, Input\n",
        "from keras.models import Model\n",
        "from keras.initializers import Constant\n",
        "\n",
        "from keras.callbacks import ModelCheckpoint\n",
        "from keras import backend as K\n",
        "\n",
        "K.clear_session()"
      ],
      "metadata": {
        "id": "MXWRSSvCrYQ0"
      },
      "execution_count": null,
      "outputs": []
    },
    {
      "cell_type": "code",
      "source": [
        "def cnn_model(embedding_matrix):\n",
        "    sequence_input = Input(shape=(MAX_SEQUENCE_LENGTH,), dtype='int32')\n",
        "\n",
        "    print(sequence_input)\n",
        "    \n",
        "    num_words = embedding_matrix.shape[0]\n",
        "    embedding_layer = Embedding(num_words,\n",
        "                                EMBEDDING_DIM,\n",
        "                                embeddings_initializer=Constant(embedding_matrix),\n",
        "                                input_length=MAX_SEQUENCE_LENGTH,\n",
        "                                trainable=False,\n",
        "                                mask_zero=False) \n",
        "    \n",
        "    embedded_sequences = embedding_layer(sequence_input)\n",
        "    \n",
        "    X = Conv1D(128, 5, activation='relu')(embedded_sequences)\n",
        "    X = MaxPooling1D(5)(X)\n",
        "    X = Conv1D(128, 5, activation='relu')(X)\n",
        "    X = MaxPooling1D(5)(X)\n",
        "    X = Conv1D(128, 5, activation='relu')(X)\n",
        "    X = GlobalMaxPooling1D()(X)\n",
        "    X = Dense(128, activation='relu')(X)\n",
        "    preds = Dense(1, activation='sigmoid')(X)\n",
        "\n",
        "    model = Model(sequence_input, preds)\n",
        "    \n",
        "    return model"
      ],
      "metadata": {
        "id": "hvUS1N14mFRl"
      },
      "execution_count": null,
      "outputs": []
    },
    {
      "cell_type": "code",
      "source": [
        "model = cnn_model(embedding_matrix)\n",
        "model.summary()"
      ],
      "metadata": {
        "colab": {
          "base_uri": "https://localhost:8080/"
        },
        "id": "UOYZvdixmKQ0",
        "outputId": "dc9c90c9-6bd4-4d78-e0cc-3d703ff57bd0"
      },
      "execution_count": null,
      "outputs": [
        {
          "output_type": "stream",
          "name": "stdout",
          "text": [
            "KerasTensor(type_spec=TensorSpec(shape=(None, 400), dtype=tf.int32, name='input_1'), name='input_1', description=\"created by layer 'input_1'\")\n",
            "Model: \"model\"\n",
            "_________________________________________________________________\n",
            " Layer (type)                Output Shape              Param #   \n",
            "=================================================================\n",
            " input_1 (InputLayer)        [(None, 400)]             0         \n",
            "                                                                 \n",
            " embedding (Embedding)       (None, 400, 100)          1742600   \n",
            "                                                                 \n",
            " conv1d (Conv1D)             (None, 396, 128)          64128     \n",
            "                                                                 \n",
            " max_pooling1d (MaxPooling1D  (None, 79, 128)          0         \n",
            " )                                                               \n",
            "                                                                 \n",
            " conv1d_1 (Conv1D)           (None, 75, 128)           82048     \n",
            "                                                                 \n",
            " max_pooling1d_1 (MaxPooling  (None, 15, 128)          0         \n",
            " 1D)                                                             \n",
            "                                                                 \n",
            " conv1d_2 (Conv1D)           (None, 11, 128)           82048     \n",
            "                                                                 \n",
            " global_max_pooling1d (Globa  (None, 128)              0         \n",
            " lMaxPooling1D)                                                  \n",
            "                                                                 \n",
            " dense (Dense)               (None, 128)               16512     \n",
            "                                                                 \n",
            " dense_1 (Dense)             (None, 1)                 129       \n",
            "                                                                 \n",
            "=================================================================\n",
            "Total params: 1,987,465\n",
            "Trainable params: 244,865\n",
            "Non-trainable params: 1,742,600\n",
            "_________________________________________________________________\n"
          ]
        }
      ]
    },
    {
      "cell_type": "markdown",
      "source": [
        "**Compila o modelo e realizar o fit:**"
      ],
      "metadata": {
        "id": "HpFn2b79W7_r"
      }
    },
    {
      "cell_type": "code",
      "metadata": {
        "id": "NGg-iVLcsjdS"
      },
      "source": [
        "model.compile(loss='binary_crossentropy', optimizer='adam', metrics=['accuracy'])"
      ],
      "execution_count": null,
      "outputs": []
    },
    {
      "cell_type": "code",
      "metadata": {
        "id": "GJ6EZIbGuN1w",
        "outputId": "28958035-f1ec-4730-bac6-2c7c2788f4b4",
        "colab": {
          "base_uri": "https://localhost:8080/"
        }
      },
      "source": [
        "%%time\n",
        "\n",
        "history = model.fit(X_train, y_train,\n",
        "                    batch_size=128,\n",
        "                    epochs=15,\n",
        "                    validation_data=(X_val, y_val))"
      ],
      "execution_count": null,
      "outputs": [
        {
          "output_type": "stream",
          "name": "stdout",
          "text": [
            "Epoch 1/15\n",
            "56/56 [==============================] - 14s 34ms/step - loss: 0.1579 - accuracy: 0.9704 - val_loss: 0.1105 - val_accuracy: 0.9786\n",
            "Epoch 2/15\n",
            "56/56 [==============================] - 1s 12ms/step - loss: 0.1236 - accuracy: 0.9716 - val_loss: 0.1034 - val_accuracy: 0.9786\n",
            "Epoch 3/15\n",
            "56/56 [==============================] - 1s 12ms/step - loss: 0.1178 - accuracy: 0.9716 - val_loss: 0.0972 - val_accuracy: 0.9786\n",
            "Epoch 4/15\n",
            "56/56 [==============================] - 1s 12ms/step - loss: 0.1027 - accuracy: 0.9716 - val_loss: 0.0993 - val_accuracy: 0.9786\n",
            "Epoch 5/15\n",
            "56/56 [==============================] - 1s 13ms/step - loss: 0.0855 - accuracy: 0.9727 - val_loss: 0.1308 - val_accuracy: 0.9736\n",
            "Epoch 6/15\n",
            "56/56 [==============================] - 1s 12ms/step - loss: 0.0601 - accuracy: 0.9778 - val_loss: 0.1540 - val_accuracy: 0.9786\n",
            "Epoch 7/15\n",
            "56/56 [==============================] - 1s 12ms/step - loss: 0.0470 - accuracy: 0.9832 - val_loss: 0.1708 - val_accuracy: 0.9786\n",
            "Epoch 8/15\n",
            "56/56 [==============================] - 1s 12ms/step - loss: 0.0305 - accuracy: 0.9899 - val_loss: 0.2057 - val_accuracy: 0.9786\n",
            "Epoch 9/15\n",
            "56/56 [==============================] - 1s 12ms/step - loss: 0.0305 - accuracy: 0.9909 - val_loss: 0.1690 - val_accuracy: 0.9773\n",
            "Epoch 10/15\n",
            "56/56 [==============================] - 1s 12ms/step - loss: 0.0235 - accuracy: 0.9933 - val_loss: 0.1619 - val_accuracy: 0.9761\n",
            "Epoch 11/15\n",
            "56/56 [==============================] - 1s 12ms/step - loss: 0.0182 - accuracy: 0.9947 - val_loss: 0.1715 - val_accuracy: 0.9748\n",
            "Epoch 12/15\n",
            "56/56 [==============================] - 1s 12ms/step - loss: 0.0210 - accuracy: 0.9930 - val_loss: 0.1456 - val_accuracy: 0.9761\n",
            "Epoch 13/15\n",
            "56/56 [==============================] - 1s 12ms/step - loss: 0.0207 - accuracy: 0.9932 - val_loss: 0.2332 - val_accuracy: 0.9773\n",
            "Epoch 14/15\n",
            "56/56 [==============================] - 1s 12ms/step - loss: 0.0170 - accuracy: 0.9951 - val_loss: 0.1974 - val_accuracy: 0.9748\n",
            "Epoch 15/15\n",
            "56/56 [==============================] - 1s 12ms/step - loss: 0.0198 - accuracy: 0.9940 - val_loss: 0.2439 - val_accuracy: 0.9786\n",
            "CPU times: user 13.7 s, sys: 1.56 s, total: 15.3 s\n",
            "Wall time: 41.8 s\n"
          ]
        }
      ]
    },
    {
      "cell_type": "markdown",
      "source": [
        "**Ilustra os resultados graficamente:**"
      ],
      "metadata": {
        "id": "ddlEIXaUXBz5"
      }
    },
    {
      "cell_type": "code",
      "metadata": {
        "id": "qV91WT6sFzYc",
        "colab": {
          "base_uri": "https://localhost:8080/",
          "height": 585
        },
        "outputId": "c1874035-3902-44dd-ea5d-e3e53d5d02c2"
      },
      "source": [
        "def plot_results(history):\n",
        "    plt.plot(history.history['accuracy'])\n",
        "    plt.plot(history.history['accuracy'])\n",
        "    plt.title('Model accuracy')\n",
        "    plt.ylabel('Accuracy')\n",
        "    plt.xlabel('Epoch')\n",
        "    plt.legend(['Train', 'Test'], loc='upper left')\n",
        "    plt.show()\n",
        "\n",
        "    plt.plot(history.history['loss'])\n",
        "    plt.plot(history.history['val_loss'])\n",
        "    plt.title('Model loss')\n",
        "    plt.ylabel('Loss')\n",
        "    plt.xlabel('Epoch')\n",
        "    plt.legend(['Train', 'Test'], loc='upper left')\n",
        "    plt.show()\n",
        "\n",
        "plot_results(history)"
      ],
      "execution_count": null,
      "outputs": [
        {
          "output_type": "display_data",
          "data": {
            "text/plain": [
              "<Figure size 432x288 with 1 Axes>"
            ],
            "image/png": "[encoded data removed]"
          },
          "metadata": {}
        },
        {
          "output_type": "display_data",
          "data": {
            "text/plain": [
              "<Figure size 432x288 with 1 Axes>"
            ],
            "image/png": "[encoded data removed]"
          },
          "metadata": {}
        }
      ]
    }
  ]
}