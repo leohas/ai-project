{
  "nbformat": 4,
  "nbformat_minor": 0,
  "metadata": {
    "colab": {
      "name": "Análise de Sentimento - Sistemas Inteligentes.ipynb",
      "provenance": [],
      "collapsed_sections": [],
      "include_colab_link": true
    },
    "language_info": {
      "codemirror_mode": {
        "name": "ipython",
        "version": 3
      },
      "file_extension": ".py",
      "mimetype": "text/x-python",
      "name": "python",
      "nbconvert_exporter": "python",
      "pygments_lexer": "ipython3",
      "version": "3.7.3"
    },
    "kernelspec": {
      "name": "python3",
      "display_name": "Python 3"
    },
    "accelerator": "TPU"
  },
  "cells": [
    {
      "cell_type": "markdown",
      "metadata": {
        "id": "view-in-github",
        "colab_type": "text"
      },
      "source": [
        "<a href=\"https://colab.research.google.com/github/leohas/ai-project/blob/master/An%C3%A1lise_de_Sentimento_Sistemas_Inteligentes.ipynb\" target=\"_parent\"><img src=\"https://colab.research.google.com/assets/colab-badge.svg\" alt=\"Open In Colab\"/></a>"
      ]
    },
    {
      "cell_type": "code",
      "metadata": {
        "id": "LOoHuJ2iFzVa"
      },
      "source": [
        "import pandas as pd\n",
        "import seaborn as sns\n",
        "import matplotlib.pyplot as plt\n",
        "sns.set()\n",
        "\n",
        "import pprint as pp\n",
        "from joblib import dump"
      ],
      "execution_count": 1,
      "outputs": []
    },
    {
      "cell_type": "code",
      "metadata": {
        "id": "OdkRwbq_G3_A",
        "outputId": "cb9ae422-41c3-4f5f-a2ff-795d61902f74",
        "colab": {
          "base_uri": "https://localhost:8080/"
        }
      },
      "source": [
        "from google.colab import drive\n",
        "drive.mount('/content/gdrive')"
      ],
      "execution_count": 2,
      "outputs": [
        {
          "output_type": "stream",
          "name": "stdout",
          "text": [
            "Mounted at /content/gdrive\n"
          ]
        }
      ]
    },
    {
      "cell_type": "markdown",
      "metadata": {
        "id": "i7khdzq-FzVo"
      },
      "source": [
        "# The Data\n",
        "\n",
        "\n",
        ">The Multi-Domain Sentiment Dataset contains product reviews taken from Amazon.com from many product types (domains). Some domains (books and dvds) have hundreds of thousands of reviews. Others (musical instruments) have only a few hundred. Reviews contain star ratings (1 to 5 stars) that can be converted into binary labels if needed. This page contains some descriptions about the data. If you have questions, please email Mark Dredze or John Blitzer. \n",
        "\n",
        "http://www.cs.jhu.edu/~mdredze/datasets/sentiment/"
      ]
    },
    {
      "cell_type": "raw",
      "metadata": {
        "id": "QEqT0P0uFzVr"
      },
      "source": [
        "\"\"\"This script parse amazon books revies xml to a csv file\n",
        "parse_xml2csv()\n",
        "\"\"\"\n",
        "\n",
        "from tqdm import tqdm\n",
        "import csv\n",
        "\n",
        "def parse_xml2csv(): \n",
        "    dataset_file = './data/amazon_reviews/sorted_data/books/unlabeled.review'\n",
        "    output_file = './data/amazon_reviews/csv/books_reviews.csv'\n",
        "    \n",
        "    def _active_tag(tag):\n",
        "        if f'<{tag}>' in line:\n",
        "            rw[tag] = ''\n",
        "            return tag\n",
        "        elif f'</{tag}>' in line:\n",
        "            return '#end_tag#'\n",
        "    \n",
        "    # columns = ['product_name', 'rating', 'title', 'review_text']\n",
        "    columns = ['rating', 'review_text']\n",
        "    active_tag = None\n",
        "    \n",
        "    csvfile = open(output_file, 'w', newline='')\n",
        "    csvwriter = csv.DictWriter(csvfile, fieldnames=columns)\n",
        "    csvwriter.writeheader()\n",
        "    \n",
        "    with open(dataset_file, 'r', encoding='utf-8', errors='ignore') as fp:\n",
        "        for line in tqdm(fp):\n",
        "            if '<review>' in line:\n",
        "                rw = {}\n",
        "                continue\n",
        "            elif '</review>' in line:\n",
        "                csvwriter.writerow(rw)\n",
        "            \n",
        "            tags = map(_active_tag, columns)\n",
        "            tag = next((i for i in tags if i is not None), None)\n",
        "            \n",
        "            if tag == '#end_tag#':\n",
        "                rw[active_tag] = rw[active_tag].strip()\n",
        "                active_tag = None\n",
        "                continue\n",
        "            elif tag is not None:\n",
        "                active_tag = tag\n",
        "                continue\n",
        "            \n",
        "            if active_tag is not None:\n",
        "                rw[active_tag] += line\n",
        "    \n",
        "    csvfile.close()\n",
        "\n",
        "# Running the parser    \n",
        "parse_xml2csv()"
      ]
    },
    {
      "cell_type": "code",
      "metadata": {
        "id": "Cahir_nsFzVt"
      },
      "source": [
        "csv_file = '../content/gdrive/My Drive/johnny-depp-trial-tweets.csv'\n",
        "df = pd.read_csv(csv_file)"
      ],
      "execution_count": 3,
      "outputs": []
    },
    {
      "cell_type": "code",
      "metadata": {
        "id": "DWrLHvq6FzV0"
      },
      "source": [
        "# print(df)\n",
        "df['tweet'] = df['tweet'].astype('category')"
      ],
      "execution_count": 9,
      "outputs": []
    },
    {
      "cell_type": "code",
      "metadata": {
        "id": "JrnWEzSDFzV7",
        "outputId": "cb7670c4-f863-4348-fdf1-1b30f645e9c0",
        "colab": {
          "base_uri": "https://localhost:8080/"
        }
      },
      "source": [
        "df.info()"
      ],
      "execution_count": 10,
      "outputs": [
        {
          "output_type": "stream",
          "name": "stdout",
          "text": [
            "<class 'pandas.core.frame.DataFrame'>\n",
            "RangeIndex: 10004 entries, 0 to 10003\n",
            "Data columns (total 36 columns):\n",
            " #   Column           Non-Null Count  Dtype   \n",
            "---  ------           --------------  -----   \n",
            " 0   id               10004 non-null  int64   \n",
            " 1   conversation_id  10004 non-null  int64   \n",
            " 2   created_at       10004 non-null  object  \n",
            " 3   date             10004 non-null  object  \n",
            " 4   time             10004 non-null  object  \n",
            " 5   timezone         10004 non-null  int64   \n",
            " 6   user_id          10004 non-null  int64   \n",
            " 7   username         10004 non-null  object  \n",
            " 8   name             10004 non-null  object  \n",
            " 9   place            12 non-null     object  \n",
            " 10  tweet            10004 non-null  category\n",
            " 11  language         10004 non-null  object  \n",
            " 12  mentions         10004 non-null  object  \n",
            " 13  urls             10004 non-null  object  \n",
            " 14  photos           10004 non-null  object  \n",
            " 15  replies_count    10004 non-null  int64   \n",
            " 16  retweets_count   10004 non-null  int64   \n",
            " 17  likes_count      10004 non-null  int64   \n",
            " 18  hashtags         10004 non-null  object  \n",
            " 19  cashtags         10004 non-null  object  \n",
            " 20  link             10004 non-null  object  \n",
            " 21  retweet          10004 non-null  bool    \n",
            " 22  quote_url        541 non-null    object  \n",
            " 23  video            10004 non-null  int64   \n",
            " 24  thumbnail        1360 non-null   object  \n",
            " 25  near             0 non-null      float64 \n",
            " 26  geo              0 non-null      float64 \n",
            " 27  source           0 non-null      float64 \n",
            " 28  user_rt_id       0 non-null      float64 \n",
            " 29  user_rt          0 non-null      float64 \n",
            " 30  retweet_id       0 non-null      float64 \n",
            " 31  reply_to         10004 non-null  object  \n",
            " 32  retweet_date     0 non-null      float64 \n",
            " 33  translate        0 non-null      float64 \n",
            " 34  trans_src        0 non-null      float64 \n",
            " 35  trans_dest       0 non-null      float64 \n",
            "dtypes: bool(1), category(1), float64(10), int64(8), object(16)\n",
            "memory usage: 3.0+ MB\n"
          ]
        }
      ]
    },
    {
      "cell_type": "code",
      "metadata": {
        "id": "cQDvumjKFzWF",
        "outputId": "452d9c20-6ca9-4753-a6f5-8be472f642df",
        "colab": {
          "base_uri": "https://localhost:8080/",
          "height": 821
        }
      },
      "source": [
        "df.head(10)"
      ],
      "execution_count": 11,
      "outputs": [
        {
          "output_type": "execute_result",
          "data": {
            "text/plain": [
              "                    id      conversation_id               created_at  \\\n",
              "0  1536417583959769088  1536417583959769088  2022-06-13 18:37:51 UTC   \n",
              "1  1536417574652723201  1536417574652723201  2022-06-13 18:37:49 UTC   \n",
              "2  1536417541597315073  1536412895914885120  2022-06-13 18:37:41 UTC   \n",
              "3  1536417482029813760  1535647733977169920  2022-06-13 18:37:27 UTC   \n",
              "4  1536417353021415426  1536417353021415426  2022-06-13 18:36:56 UTC   \n",
              "5  1536417209152675842  1536417209152675842  2022-06-13 18:36:22 UTC   \n",
              "6  1536417146187788296  1536417146187788296  2022-06-13 18:36:07 UTC   \n",
              "7  1536417104282492929  1536417104282492929  2022-06-13 18:35:57 UTC   \n",
              "8  1536416923113639942  1536416923113639942  2022-06-13 18:35:14 UTC   \n",
              "9  1536416921402343425  1536416921402343425  2022-06-13 18:35:13 UTC   \n",
              "\n",
              "         date      time  timezone              user_id         username  \\\n",
              "0  2022-06-13  18:37:51         0   806615222719041539      twiggywitch   \n",
              "1  2022-06-13  18:37:49         0   930545526797426690         a_haber_   \n",
              "2  2022-06-13  18:37:41         0  1526717067784773635        waqery123   \n",
              "3  2022-06-13  18:37:27         0   789235355866259456  melissaortega16   \n",
              "4  2022-06-13  18:36:56         0  1373804899704700931    fangirldoloki   \n",
              "5  2022-06-13  18:36:22         0  1158530175807758338    michelekellie   \n",
              "6  2022-06-13  18:36:07         0   878018761432977409   smithblindlib5   \n",
              "7  2022-06-13  18:35:57         0  1534292608972996608      dilfbateman   \n",
              "8  2022-06-13  18:35:14         0  1456016450150440960  tvfilmmusicnews   \n",
              "9  2022-06-13  18:35:13         0           2842069054    telefetucuman   \n",
              "\n",
              "                        name place  ... geo source user_rt_id user_rt  \\\n",
              "0  ༒Justice For Johnny Depp༒   NaN  ... NaN    NaN        NaN     NaN   \n",
              "1               Aᴋᴛüᴇʟ Hᴀʙᴇʀ   NaN  ... NaN    NaN        NaN     NaN   \n",
              "2                  Rayer Rrt   NaN  ... NaN    NaN        NaN     NaN   \n",
              "3                         🖕🏾   NaN  ... NaN    NaN        NaN     NaN   \n",
              "4                Michelle 👅✨   NaN  ... NaN    NaN        NaN     NaN   \n",
              "5             Kellie Michele   NaN  ... NaN    NaN        NaN     NaN   \n",
              "6          Blindguy Resists!   NaN  ... NaN    NaN        NaN     NaN   \n",
              "7                      marce   NaN  ... NaN    NaN        NaN     NaN   \n",
              "8         TV Film Music News   NaN  ... NaN    NaN        NaN     NaN   \n",
              "9             Telefe Tucumán   NaN  ... NaN    NaN        NaN     NaN   \n",
              "\n",
              "  retweet_id                                           reply_to  retweet_date  \\\n",
              "0        NaN                                                 []           NaN   \n",
              "1        NaN                                                 []           NaN   \n",
              "2        NaN  [{'screen_name': 'DamilolaOlani12', 'name': 'k...           NaN   \n",
              "3        NaN  [{'screen_name': 'missvxolence', 'name': 'sers...           NaN   \n",
              "4        NaN                                                 []           NaN   \n",
              "5        NaN                                                 []           NaN   \n",
              "6        NaN                                                 []           NaN   \n",
              "7        NaN                                                 []           NaN   \n",
              "8        NaN                                                 []           NaN   \n",
              "9        NaN                                                 []           NaN   \n",
              "\n",
              "   translate trans_src trans_dest  \n",
              "0        NaN       NaN        NaN  \n",
              "1        NaN       NaN        NaN  \n",
              "2        NaN       NaN        NaN  \n",
              "3        NaN       NaN        NaN  \n",
              "4        NaN       NaN        NaN  \n",
              "5        NaN       NaN        NaN  \n",
              "6        NaN       NaN        NaN  \n",
              "7        NaN       NaN        NaN  \n",
              "8        NaN       NaN        NaN  \n",
              "9        NaN       NaN        NaN  \n",
              "\n",
              "[10 rows x 36 columns]"
            ],
            "text/html": [
              "\n",
              "  <div id=\"df-123a1945-8dc2-469f-91e5-7cc902618dd9\">\n",
              "    <div class=\"colab-df-container\">\n",
              "      <div>\n",
              "<style scoped>\n",
              "    .dataframe tbody tr th:only-of-type {\n",
              "        vertical-align: middle;\n",
              "    }\n",
              "\n",
              "    .dataframe tbody tr th {\n",
              "        vertical-align: top;\n",
              "    }\n",
              "\n",
              "    .dataframe thead th {\n",
              "        text-align: right;\n",
              "    }\n",
              "</style>\n",
              "<table border=\"1\" class=\"dataframe\">\n",
              "  <thead>\n",
              "    <tr style=\"text-align: right;\">\n",
              "      <th></th>\n",
              "      <th>id</th>\n",
              "      <th>conversation_id</th>\n",
              "      <th>created_at</th>\n",
              "      <th>date</th>\n",
              "      <th>time</th>\n",
              "      <th>timezone</th>\n",
              "      <th>user_id</th>\n",
              "      <th>username</th>\n",
              "      <th>name</th>\n",
              "      <th>place</th>\n",
              "      <th>...</th>\n",
              "      <th>geo</th>\n",
              "      <th>source</th>\n",
              "      <th>user_rt_id</th>\n",
              "      <th>user_rt</th>\n",
              "      <th>retweet_id</th>\n",
              "      <th>reply_to</th>\n",
              "      <th>retweet_date</th>\n",
              "      <th>translate</th>\n",
              "      <th>trans_src</th>\n",
              "      <th>trans_dest</th>\n",
              "    </tr>\n",
              "  </thead>\n",
              "  <tbody>\n",
              "    <tr>\n",
              "      <th>0</th>\n",
              "      <td>1536417583959769088</td>\n",
              "      <td>1536417583959769088</td>\n",
              "      <td>2022-06-13 18:37:51 UTC</td>\n",
              "      <td>2022-06-13</td>\n",
              "      <td>18:37:51</td>\n",
              "      <td>0</td>\n",
              "      <td>806615222719041539</td>\n",
              "      <td>twiggywitch</td>\n",
              "      <td>༒Justice For Johnny Depp༒</td>\n",
              "      <td>NaN</td>\n",
              "      <td>...</td>\n",
              "      <td>NaN</td>\n",
              "      <td>NaN</td>\n",
              "      <td>NaN</td>\n",
              "      <td>NaN</td>\n",
              "      <td>NaN</td>\n",
              "      <td>[]</td>\n",
              "      <td>NaN</td>\n",
              "      <td>NaN</td>\n",
              "      <td>NaN</td>\n",
              "      <td>NaN</td>\n",
              "    </tr>\n",
              "    <tr>\n",
              "      <th>1</th>\n",
              "      <td>1536417574652723201</td>\n",
              "      <td>1536417574652723201</td>\n",
              "      <td>2022-06-13 18:37:49 UTC</td>\n",
              "      <td>2022-06-13</td>\n",
              "      <td>18:37:49</td>\n",
              "      <td>0</td>\n",
              "      <td>930545526797426690</td>\n",
              "      <td>a_haber_</td>\n",
              "      <td>Aᴋᴛüᴇʟ Hᴀʙᴇʀ</td>\n",
              "      <td>NaN</td>\n",
              "      <td>...</td>\n",
              "      <td>NaN</td>\n",
              "      <td>NaN</td>\n",
              "      <td>NaN</td>\n",
              "      <td>NaN</td>\n",
              "      <td>NaN</td>\n",
              "      <td>[]</td>\n",
              "      <td>NaN</td>\n",
              "      <td>NaN</td>\n",
              "      <td>NaN</td>\n",
              "      <td>NaN</td>\n",
              "    </tr>\n",
              "    <tr>\n",
              "      <th>2</th>\n",
              "      <td>1536417541597315073</td>\n",
              "      <td>1536412895914885120</td>\n",
              "      <td>2022-06-13 18:37:41 UTC</td>\n",
              "      <td>2022-06-13</td>\n",
              "      <td>18:37:41</td>\n",
              "      <td>0</td>\n",
              "      <td>1526717067784773635</td>\n",
              "      <td>waqery123</td>\n",
              "      <td>Rayer Rrt</td>\n",
              "      <td>NaN</td>\n",
              "      <td>...</td>\n",
              "      <td>NaN</td>\n",
              "      <td>NaN</td>\n",
              "      <td>NaN</td>\n",
              "      <td>NaN</td>\n",
              "      <td>NaN</td>\n",
              "      <td>[{'screen_name': 'DamilolaOlani12', 'name': 'k...</td>\n",
              "      <td>NaN</td>\n",
              "      <td>NaN</td>\n",
              "      <td>NaN</td>\n",
              "      <td>NaN</td>\n",
              "    </tr>\n",
              "    <tr>\n",
              "      <th>3</th>\n",
              "      <td>1536417482029813760</td>\n",
              "      <td>1535647733977169920</td>\n",
              "      <td>2022-06-13 18:37:27 UTC</td>\n",
              "      <td>2022-06-13</td>\n",
              "      <td>18:37:27</td>\n",
              "      <td>0</td>\n",
              "      <td>789235355866259456</td>\n",
              "      <td>melissaortega16</td>\n",
              "      <td>🖕🏾</td>\n",
              "      <td>NaN</td>\n",
              "      <td>...</td>\n",
              "      <td>NaN</td>\n",
              "      <td>NaN</td>\n",
              "      <td>NaN</td>\n",
              "      <td>NaN</td>\n",
              "      <td>NaN</td>\n",
              "      <td>[{'screen_name': 'missvxolence', 'name': 'sers...</td>\n",
              "      <td>NaN</td>\n",
              "      <td>NaN</td>\n",
              "      <td>NaN</td>\n",
              "      <td>NaN</td>\n",
              "    </tr>\n",
              "    <tr>\n",
              "      <th>4</th>\n",
              "      <td>1536417353021415426</td>\n",
              "      <td>1536417353021415426</td>\n",
              "      <td>2022-06-13 18:36:56 UTC</td>\n",
              "      <td>2022-06-13</td>\n",
              "      <td>18:36:56</td>\n",
              "      <td>0</td>\n",
              "      <td>1373804899704700931</td>\n",
              "      <td>fangirldoloki</td>\n",
              "      <td>Michelle 👅✨</td>\n",
              "      <td>NaN</td>\n",
              "      <td>...</td>\n",
              "      <td>NaN</td>\n",
              "      <td>NaN</td>\n",
              "      <td>NaN</td>\n",
              "      <td>NaN</td>\n",
              "      <td>NaN</td>\n",
              "      <td>[]</td>\n",
              "      <td>NaN</td>\n",
              "      <td>NaN</td>\n",
              "      <td>NaN</td>\n",
              "      <td>NaN</td>\n",
              "    </tr>\n",
              "    <tr>\n",
              "      <th>5</th>\n",
              "      <td>1536417209152675842</td>\n",
              "      <td>1536417209152675842</td>\n",
              "      <td>2022-06-13 18:36:22 UTC</td>\n",
              "      <td>2022-06-13</td>\n",
              "      <td>18:36:22</td>\n",
              "      <td>0</td>\n",
              "      <td>1158530175807758338</td>\n",
              "      <td>michelekellie</td>\n",
              "      <td>Kellie Michele</td>\n",
              "      <td>NaN</td>\n",
              "      <td>...</td>\n",
              "      <td>NaN</td>\n",
              "      <td>NaN</td>\n",
              "      <td>NaN</td>\n",
              "      <td>NaN</td>\n",
              "      <td>NaN</td>\n",
              "      <td>[]</td>\n",
              "      <td>NaN</td>\n",
              "      <td>NaN</td>\n",
              "      <td>NaN</td>\n",
              "      <td>NaN</td>\n",
              "    </tr>\n",
              "    <tr>\n",
              "      <th>6</th>\n",
              "      <td>1536417146187788296</td>\n",
              "      <td>1536417146187788296</td>\n",
              "      <td>2022-06-13 18:36:07 UTC</td>\n",
              "      <td>2022-06-13</td>\n",
              "      <td>18:36:07</td>\n",
              "      <td>0</td>\n",
              "      <td>878018761432977409</td>\n",
              "      <td>smithblindlib5</td>\n",
              "      <td>Blindguy Resists!</td>\n",
              "      <td>NaN</td>\n",
              "      <td>...</td>\n",
              "      <td>NaN</td>\n",
              "      <td>NaN</td>\n",
              "      <td>NaN</td>\n",
              "      <td>NaN</td>\n",
              "      <td>NaN</td>\n",
              "      <td>[]</td>\n",
              "      <td>NaN</td>\n",
              "      <td>NaN</td>\n",
              "      <td>NaN</td>\n",
              "      <td>NaN</td>\n",
              "    </tr>\n",
              "    <tr>\n",
              "      <th>7</th>\n",
              "      <td>1536417104282492929</td>\n",
              "      <td>1536417104282492929</td>\n",
              "      <td>2022-06-13 18:35:57 UTC</td>\n",
              "      <td>2022-06-13</td>\n",
              "      <td>18:35:57</td>\n",
              "      <td>0</td>\n",
              "      <td>1534292608972996608</td>\n",
              "      <td>dilfbateman</td>\n",
              "      <td>marce</td>\n",
              "      <td>NaN</td>\n",
              "      <td>...</td>\n",
              "      <td>NaN</td>\n",
              "      <td>NaN</td>\n",
              "      <td>NaN</td>\n",
              "      <td>NaN</td>\n",
              "      <td>NaN</td>\n",
              "      <td>[]</td>\n",
              "      <td>NaN</td>\n",
              "      <td>NaN</td>\n",
              "      <td>NaN</td>\n",
              "      <td>NaN</td>\n",
              "    </tr>\n",
              "    <tr>\n",
              "      <th>8</th>\n",
              "      <td>1536416923113639942</td>\n",
              "      <td>1536416923113639942</td>\n",
              "      <td>2022-06-13 18:35:14 UTC</td>\n",
              "      <td>2022-06-13</td>\n",
              "      <td>18:35:14</td>\n",
              "      <td>0</td>\n",
              "      <td>1456016450150440960</td>\n",
              "      <td>tvfilmmusicnews</td>\n",
              "      <td>TV Film Music News</td>\n",
              "      <td>NaN</td>\n",
              "      <td>...</td>\n",
              "      <td>NaN</td>\n",
              "      <td>NaN</td>\n",
              "      <td>NaN</td>\n",
              "      <td>NaN</td>\n",
              "      <td>NaN</td>\n",
              "      <td>[]</td>\n",
              "      <td>NaN</td>\n",
              "      <td>NaN</td>\n",
              "      <td>NaN</td>\n",
              "      <td>NaN</td>\n",
              "    </tr>\n",
              "    <tr>\n",
              "      <th>9</th>\n",
              "      <td>1536416921402343425</td>\n",
              "      <td>1536416921402343425</td>\n",
              "      <td>2022-06-13 18:35:13 UTC</td>\n",
              "      <td>2022-06-13</td>\n",
              "      <td>18:35:13</td>\n",
              "      <td>0</td>\n",
              "      <td>2842069054</td>\n",
              "      <td>telefetucuman</td>\n",
              "      <td>Telefe Tucumán</td>\n",
              "      <td>NaN</td>\n",
              "      <td>...</td>\n",
              "      <td>NaN</td>\n",
              "      <td>NaN</td>\n",
              "      <td>NaN</td>\n",
              "      <td>NaN</td>\n",
              "      <td>NaN</td>\n",
              "      <td>[]</td>\n",
              "      <td>NaN</td>\n",
              "      <td>NaN</td>\n",
              "      <td>NaN</td>\n",
              "      <td>NaN</td>\n",
              "    </tr>\n",
              "  </tbody>\n",
              "</table>\n",
              "<p>10 rows × 36 columns</p>\n",
              "</div>\n",
              "      <button class=\"colab-df-convert\" onclick=\"convertToInteractive('df-123a1945-8dc2-469f-91e5-7cc902618dd9')\"\n",
              "              title=\"Convert this dataframe to an interactive table.\"\n",
              "              style=\"display:none;\">\n",
              "        \n",
              "  <svg xmlns=\"http://www.w3.org/2000/svg\" height=\"24px\"viewBox=\"0 0 24 24\"\n",
              "       width=\"24px\">\n",
              "    <path d=\"M0 0h24v24H0V0z\" fill=\"none\"/>\n",
              "    <path d=\"M18.56 5.44l.94 2.06.94-2.06 2.06-.94-2.06-.94-.94-2.06-.94 2.06-2.06.94zm-11 1L8.5 8.5l.94-2.06 2.06-.94-2.06-.94L8.5 2.5l-.94 2.06-2.06.94zm10 10l.94 2.06.94-2.06 2.06-.94-2.06-.94-.94-2.06-.94 2.06-2.06.94z\"/><path d=\"M17.41 7.96l-1.37-1.37c-.4-.4-.92-.59-1.43-.59-.52 0-1.04.2-1.43.59L10.3 9.45l-7.72 7.72c-.78.78-.78 2.05 0 2.83L4 21.41c.39.39.9.59 1.41.59.51 0 1.02-.2 1.41-.59l7.78-7.78 2.81-2.81c.8-.78.8-2.07 0-2.86zM5.41 20L4 18.59l7.72-7.72 1.47 1.35L5.41 20z\"/>\n",
              "  </svg>\n",
              "      </button>\n",
              "      \n",
              "  <style>\n",
              "    .colab-df-container {\n",
              "      display:flex;\n",
              "      flex-wrap:wrap;\n",
              "      gap: 12px;\n",
              "    }\n",
              "\n",
              "    .colab-df-convert {\n",
              "      background-color: #E8F0FE;\n",
              "      border: none;\n",
              "      border-radius: 50%;\n",
              "      cursor: pointer;\n",
              "      display: none;\n",
              "      fill: #1967D2;\n",
              "      height: 32px;\n",
              "      padding: 0 0 0 0;\n",
              "      width: 32px;\n",
              "    }\n",
              "\n",
              "    .colab-df-convert:hover {\n",
              "      background-color: #E2EBFA;\n",
              "      box-shadow: 0px 1px 2px rgba(60, 64, 67, 0.3), 0px 1px 3px 1px rgba(60, 64, 67, 0.15);\n",
              "      fill: #174EA6;\n",
              "    }\n",
              "\n",
              "    [theme=dark] .colab-df-convert {\n",
              "      background-color: #3B4455;\n",
              "      fill: #D2E3FC;\n",
              "    }\n",
              "\n",
              "    [theme=dark] .colab-df-convert:hover {\n",
              "      background-color: #434B5C;\n",
              "      box-shadow: 0px 1px 3px 1px rgba(0, 0, 0, 0.15);\n",
              "      filter: drop-shadow(0px 1px 2px rgba(0, 0, 0, 0.3));\n",
              "      fill: #FFFFFF;\n",
              "    }\n",
              "  </style>\n",
              "\n",
              "      <script>\n",
              "        const buttonEl =\n",
              "          document.querySelector('#df-123a1945-8dc2-469f-91e5-7cc902618dd9 button.colab-df-convert');\n",
              "        buttonEl.style.display =\n",
              "          google.colab.kernel.accessAllowed ? 'block' : 'none';\n",
              "\n",
              "        async function convertToInteractive(key) {\n",
              "          const element = document.querySelector('#df-123a1945-8dc2-469f-91e5-7cc902618dd9');\n",
              "          const dataTable =\n",
              "            await google.colab.kernel.invokeFunction('convertToInteractive',\n",
              "                                                     [key], {});\n",
              "          if (!dataTable) return;\n",
              "\n",
              "          const docLinkHtml = 'Like what you see? Visit the ' +\n",
              "            '<a target=\"_blank\" href=https://colab.research.google.com/notebooks/data_table.ipynb>data table notebook</a>'\n",
              "            + ' to learn more about interactive tables.';\n",
              "          element.innerHTML = '';\n",
              "          dataTable['output_type'] = 'display_data';\n",
              "          await google.colab.output.renderOutput(dataTable, element);\n",
              "          const docLink = document.createElement('div');\n",
              "          docLink.innerHTML = docLinkHtml;\n",
              "          element.appendChild(docLink);\n",
              "        }\n",
              "      </script>\n",
              "    </div>\n",
              "  </div>\n",
              "  "
            ]
          },
          "metadata": {},
          "execution_count": 11
        }
      ]
    },
    {
      "cell_type": "code",
      "metadata": {
        "id": "_FqDWsvMc0JW",
        "outputId": "891329c3-d673-4ba8-8f37-7ee846db7e35",
        "colab": {
          "base_uri": "https://localhost:8080/"
        }
      },
      "source": [
        "sample = df.sample(1)\n",
        "print('-'*100)\n",
        "print('Tweet: %s' % sample['tweet'].values[0])"
      ],
      "execution_count": 18,
      "outputs": [
        {
          "output_type": "stream",
          "name": "stdout",
          "text": [
            "----------------------------------------------------------------------------------------------------\n",
            "Tweet: ¿Estoy mal si Amber Heard me encanta físicamente?, porque de forma presencial no tengo el gusto. Se me hace una mujer increíblemente atractiva, y eso que las güeras no me atraen; de piel blanca sí, pero las güerejas no me gustan.  Ya hablé con Johnny Depp para que no le cobre.  https://t.co/Ernc7pxuby\n"
          ]
        }
      ]
    },
    {
      "cell_type": "markdown",
      "metadata": {
        "id": "BLV2gM1dZ67f"
      },
      "source": [
        "# Preprocessing Text data"
      ]
    },
    {
      "cell_type": "code",
      "metadata": {
        "id": "HA_fs3-R1tPU"
      },
      "source": [
        "from keras.preprocessing.sequence import pad_sequences\n",
        "import numpy as np"
      ],
      "execution_count": 25,
      "outputs": []
    },
    {
      "cell_type": "code",
      "metadata": {
        "id": "8GChkxhaZ6YZ"
      },
      "source": [
        "MAX_NUM_FEATURES = 20000\n",
        "NGRAN_RANGE = 1\n",
        "MAX_SEQUENCE_LENGTH = 400\n",
        "VALIDATION_SPLIT = .1"
      ],
      "execution_count": 26,
      "outputs": []
    },
    {
      "cell_type": "code",
      "metadata": {
        "id": "O9njD12SFzXe",
        "outputId": "ca845b71-c6ac-4c60-b877-5a3d48fbdb63",
        "colab": {
          "base_uri": "https://localhost:8080/"
        }
      },
      "source": [
        "from keras.preprocessing import text\n",
        "texts = df['tweet'].astype(str)\n",
        "labels = df['id'].astype('int32')\n",
        "\n",
        "tokenizer = text.Tokenizer(num_words=MAX_NUM_FEATURES)\n",
        "tokenizer.fit_on_texts(texts)\n",
        "sequences = tokenizer.texts_to_sequences(texts)\n",
        "word_index = tokenizer.word_index\n",
        "\n",
        "print('Found %s unique tokens.' % len(word_index))"
      ],
      "execution_count": 28,
      "outputs": [
        {
          "output_type": "stream",
          "name": "stdout",
          "text": [
            "Found 29431 unique tokens.\n"
          ]
        }
      ]
    },
    {
      "cell_type": "code",
      "metadata": {
        "id": "YE83-AqRZ45M",
        "outputId": "3501df6a-7c25-4332-ed36-47e58cbef8db",
        "colab": {
          "base_uri": "https://localhost:8080/"
        }
      },
      "source": [
        "print(texts[4164])\n",
        "pp.pprint(sequences[4164], width=200, compact=True)"
      ],
      "execution_count": 29,
      "outputs": [
        {
          "output_type": "stream",
          "name": "stdout",
          "text": [
            "@mldauber @BillPressPod …person! He had much better lawyers, better witness testimony and here’s the real kicker Johnny actually told the truth. The only one to set women back in the me too movement is Amber Heard but most SANE people get that.\n",
            "[467, 1285, 17388, 31, 105, 271, 408, 202, 408, 642, 374, 10, 1907, 5, 224, 17389, 1, 324, 333, 5, 155, 5, 130, 79, 9, 382, 148, 165, 14, 5, 69, 171, 315, 13, 2, 3, 32, 356, 2686, 70, 120, 20]\n"
          ]
        }
      ]
    },
    {
      "cell_type": "code",
      "metadata": {
        "id": "iznDQlsuaePV",
        "outputId": "50177753-054f-431e-a1cc-5ff31c530875",
        "colab": {
          "base_uri": "https://localhost:8080/"
        }
      },
      "source": [
        "print(len(sequences), 'sequences')\n",
        "print('Average train sequence length: %d' % np.mean(list(map(len, sequences))))"
      ],
      "execution_count": 30,
      "outputs": [
        {
          "output_type": "stream",
          "name": "stdout",
          "text": [
            "10004 sequences\n",
            "Average train sequence length: 29\n"
          ]
        }
      ]
    },
    {
      "cell_type": "code",
      "metadata": {
        "id": "6nAjBcorbrzl"
      },
      "source": [
        "def create_ngram_set(input_list, ngram_value=2):\n",
        "    \"\"\"\n",
        "    Extract a set of n-grams from a list of integers.\n",
        "    >>> create_ngram_set([1, 4, 9, 4, 1, 4], ngram_value=2)\n",
        "    {(4, 9), (4, 1), (1, 4), (9, 4)}\n",
        "    >>> create_ngram_set([1, 4, 9, 4, 1, 4], ngram_value=3)\n",
        "    [(1, 4, 9), (4, 9, 4), (9, 4, 1), (4, 1, 4)]\n",
        "    \"\"\"\n",
        "    return set(zip(*[input_list[i:] for i in range(ngram_value)]))\n",
        "\n",
        "\n",
        "def add_ngram(sequences, token_indice, ngram_range=2):\n",
        "    \"\"\"\n",
        "    Augment the input list of list (sequences) by appending n-grams values.\n",
        "    Example: adding bi-gram\n",
        "    >>> sequences = [[1, 3, 4, 5], [1, 3, 7, 9, 2]]\n",
        "    >>> token_indice = {(1, 3): 1337, (9, 2): 42, (4, 5): 2017}\n",
        "    >>> add_ngram(sequences, token_indice, ngram_range=2)\n",
        "    [[1, 3, 4, 5, 1337, 2017], [1, 3, 7, 9, 2, 1337, 42]]\n",
        "    Example: adding tri-gram\n",
        "    >>> sequences = [[1, 3, 4, 5], [1, 3, 7, 9, 2]]\n",
        "    >>> token_indice = {(1, 3): 1337, (9, 2): 42, (4, 5): 2017, (7, 9, 2): 2018}\n",
        "    >>> add_ngram(sequences, token_indice, ngram_range=3)\n",
        "    [[1, 3, 4, 5, 1337, 2017], [1, 3, 7, 9, 2, 1337, 42, 2018]]\n",
        "    \"\"\"\n",
        "    new_sequences = []\n",
        "    for input_list in sequences:\n",
        "        new_list = input_list[:]\n",
        "        for ngram_value in range(2, ngram_range + 1):\n",
        "            for i in range(len(new_list) - ngram_value + 1):\n",
        "                ngram = tuple(new_list[i:i + ngram_value])\n",
        "                if ngram in token_indice:\n",
        "                    new_list.append(token_indice[ngram])\n",
        "        new_sequences.append(new_list)\n",
        "\n",
        "    return new_sequences"
      ],
      "execution_count": 31,
      "outputs": []
    },
    {
      "cell_type": "code",
      "metadata": {
        "id": "eN4W-TLD_Ybm",
        "outputId": "b4ffad8a-4e65-4821-febb-67ca592200c6",
        "colab": {
          "base_uri": "https://localhost:8080/"
        }
      },
      "source": [
        "len(sequences)"
      ],
      "execution_count": 32,
      "outputs": [
        {
          "output_type": "execute_result",
          "data": {
            "text/plain": [
              "10004"
            ]
          },
          "metadata": {},
          "execution_count": 32
        }
      ]
    },
    {
      "cell_type": "code",
      "metadata": {
        "id": "QmFFojKsb7nV"
      },
      "source": [
        "if NGRAN_RANGE > 1:\n",
        "    ngram_set = set()\n",
        "    for input_list in sequences:\n",
        "        for i in range(2, NGRAN_RANGE + 1):\n",
        "            set_of_ngram = create_ngram_set(input_list, ngram_value=i)\n",
        "            ngram_set.update(set_of_ngram)\n",
        "    \n",
        "    # Dictionary mapping n-gram token to a unique integer.\n",
        "    # Integer values are greater than max_features in order\n",
        "    # to avoid collision with existing features.        \n",
        "    token_indice = {v: k + MAX_NUM_FEATURES for k, v in enumerate(ngram_set)}\n",
        "    indice_token = {token_indice[k]: k for k in token_indice}\n",
        "    \n",
        "    # Update MAX_NUM_FEATURES\n",
        "    MAX_NUM_FEATURES = np.max(list(indice_token.keys())) + 1\n",
        "    print('Update MAX_NUM_FEATURES %d' % MAX_NUM_FEATURES)\n",
        "    \n",
        "    # Augument sequences with the new features\n",
        "    sequences = add_ngram(sequences, token_indice, NGRAN_RANGE)\n",
        "    print(len(sequences), 'sequences')\n",
        "    print('Average train sequence length: %d' % np.mean(list(map(len, sequences))))"
      ],
      "execution_count": 33,
      "outputs": []
    },
    {
      "cell_type": "code",
      "metadata": {
        "id": "9Bo4PMALmb5C"
      },
      "source": [
        "data = pad_sequences(sequences, maxlen=MAX_SEQUENCE_LENGTH)"
      ],
      "execution_count": 34,
      "outputs": []
    },
    {
      "cell_type": "code",
      "metadata": {
        "id": "ex8D5E-u5BL5",
        "outputId": "ef1632a2-5723-4cfb-edd8-61c937cdfcf5",
        "colab": {
          "base_uri": "https://localhost:8080/"
        }
      },
      "source": [
        "pp.pprint(data[0].tolist(), width=200, compact=True)"
      ],
      "execution_count": 35,
      "outputs": [
        {
          "output_type": "stream",
          "name": "stdout",
          "text": [
            "[0, 0, 0, 0, 0, 0, 0, 0, 0, 0, 0, 0, 0, 0, 0, 0, 0, 0, 0, 0, 0, 0, 0, 0, 0, 0, 0, 0, 0, 0, 0, 0, 0, 0, 0, 0, 0, 0, 0, 0, 0, 0, 0, 0, 0, 0, 0, 0, 0, 0, 0, 0, 0, 0, 0, 0, 0, 0, 0, 0, 0, 0, 0, 0, 0, 0,\n",
            " 0, 0, 0, 0, 0, 0, 0, 0, 0, 0, 0, 0, 0, 0, 0, 0, 0, 0, 0, 0, 0, 0, 0, 0, 0, 0, 0, 0, 0, 0, 0, 0, 0, 0, 0, 0, 0, 0, 0, 0, 0, 0, 0, 0, 0, 0, 0, 0, 0, 0, 0, 0, 0, 0, 0, 0, 0, 0, 0, 0, 0, 0, 0, 0, 0, 0,\n",
            " 0, 0, 0, 0, 0, 0, 0, 0, 0, 0, 0, 0, 0, 0, 0, 0, 0, 0, 0, 0, 0, 0, 0, 0, 0, 0, 0, 0, 0, 0, 0, 0, 0, 0, 0, 0, 0, 0, 0, 0, 0, 0, 0, 0, 0, 0, 0, 0, 0, 0, 0, 0, 0, 0, 0, 0, 0, 0, 0, 0, 0, 0, 0, 0, 0, 0,\n",
            " 0, 0, 0, 0, 0, 0, 0, 0, 0, 0, 0, 0, 0, 0, 0, 0, 0, 0, 0, 0, 0, 0, 0, 0, 0, 0, 0, 0, 0, 0, 0, 0, 0, 0, 0, 0, 0, 0, 0, 0, 0, 0, 0, 0, 0, 0, 0, 0, 0, 0, 0, 0, 0, 0, 0, 0, 0, 0, 0, 0, 0, 0, 0, 0, 0, 0,\n",
            " 0, 0, 0, 0, 0, 0, 0, 0, 0, 0, 0, 0, 0, 0, 0, 0, 0, 0, 0, 0, 0, 0, 0, 0, 0, 0, 0, 0, 0, 0, 0, 0, 0, 0, 0, 0, 0, 0, 0, 0, 0, 0, 0, 0, 0, 0, 0, 0, 0, 0, 0, 0, 0, 0, 0, 0, 0, 0, 0, 0, 0, 0, 0, 0, 0, 0,\n",
            " 0, 0, 0, 0, 0, 0, 0, 0, 0, 0, 0, 0, 0, 0, 0, 0, 0, 0, 0, 0, 0, 0, 0, 0, 595, 47, 9726, 11, 1, 4, 233, 999, 1000, 9727, 337, 2507, 233, 2, 3, 86, 3143, 4125, 1301, 9728, 160, 9729, 6516, 9730, 9731,\n",
            " 86, 4998, 93, 121, 122, 240, 9732, 121, 2508, 9733, 4999, 5000, 220, 398, 5001, 9734, 107, 8, 6, 7, 9735]\n"
          ]
        }
      ]
    },
    {
      "cell_type": "code",
      "metadata": {
        "id": "FSglNAEfFzX8"
      },
      "source": [
        "# Split the date into train and validation sets\n",
        "num_validation_samples = int(VALIDATION_SPLIT * data.shape[0])\n",
        "\n",
        "X_train = data[:-num_validation_samples]\n",
        "y_train = labels[:-num_validation_samples]\n",
        "X_val = data[-num_validation_samples:]\n",
        "y_val = labels[-num_validation_samples:]"
      ],
      "execution_count": 36,
      "outputs": []
    },
    {
      "cell_type": "code",
      "metadata": {
        "id": "tq8BMi7dFzYA",
        "outputId": "e25f712f-6d41-4acd-a00c-0e50b410cb0a",
        "colab": {
          "base_uri": "https://localhost:8080/"
        }
      },
      "source": [
        "print('X_train shape:', X_train.shape)\n",
        "print('X_val shape:', X_val.shape)\n",
        "print('y_train shape:', y_train.shape, 'type', y_train.dtype)\n",
        "print('y_val shape:', y_val.shape, 'type', y_val.dtype)"
      ],
      "execution_count": 37,
      "outputs": [
        {
          "output_type": "stream",
          "name": "stdout",
          "text": [
            "X_train shape: (9004, 400)\n",
            "X_val shape: (1000, 400)\n",
            "y_train shape: (9004,) type int32\n",
            "y_val shape: (1000,) type int32\n"
          ]
        }
      ]
    },
    {
      "cell_type": "markdown",
      "metadata": {
        "id": "EuMBxY94Cag-"
      },
      "source": [
        "# Fasttext Model"
      ]
    },
    {
      "cell_type": "code",
      "metadata": {
        "id": "AQ71bMb8CfR8"
      },
      "source": [
        "from keras.models import Sequential\n",
        "from keras.layers import Embedding, GlobalAveragePooling1D, Dense\n",
        "from keras.callbacks import ModelCheckpoint"
      ],
      "execution_count": 38,
      "outputs": []
    },
    {
      "cell_type": "code",
      "metadata": {
        "id": "O-7_D2rZC-wA"
      },
      "source": [
        "def fasttext_model():\n",
        "    model = Sequential()\n",
        "    model.add(Embedding(input_dim=MAX_NUM_FEATURES,\n",
        "                        output_dim=100,\n",
        "                        input_length=MAX_SEQUENCE_LENGTH))\n",
        "    model.add(GlobalAveragePooling1D())\n",
        "    model.add(Dense(1, activation='sigmoid'))\n",
        "    return model"
      ],
      "execution_count": 39,
      "outputs": []
    },
    {
      "cell_type": "code",
      "metadata": {
        "id": "6hy0M0MEEnux",
        "outputId": "35a9c6ab-96db-4e8e-e43f-e93cbdf88ca3",
        "colab": {
          "base_uri": "https://localhost:8080/"
        }
      },
      "source": [
        "model = fasttext_model()\n",
        "model.summary()"
      ],
      "execution_count": 40,
      "outputs": [
        {
          "output_type": "stream",
          "name": "stdout",
          "text": [
            "Model: \"sequential\"\n",
            "_________________________________________________________________\n",
            " Layer (type)                Output Shape              Param #   \n",
            "=================================================================\n",
            " embedding (Embedding)       (None, 400, 100)          2000000   \n",
            "                                                                 \n",
            " global_average_pooling1d (G  (None, 100)              0         \n",
            " lobalAveragePooling1D)                                          \n",
            "                                                                 \n",
            " dense (Dense)               (None, 1)                 101       \n",
            "                                                                 \n",
            "=================================================================\n",
            "Total params: 2,000,101\n",
            "Trainable params: 2,000,101\n",
            "Non-trainable params: 0\n",
            "_________________________________________________________________\n"
          ]
        }
      ]
    },
    {
      "cell_type": "code",
      "metadata": {
        "id": "NGg-iVLcsjdS"
      },
      "source": [
        "model.compile(loss='binary_crossentropy', optimizer='adam', metrics=['accuracy'])"
      ],
      "execution_count": 41,
      "outputs": []
    },
    {
      "cell_type": "code",
      "metadata": {
        "id": "GJ6EZIbGuN1w",
        "outputId": "f2577e96-2c95-4cb5-9aac-2642156f3487",
        "colab": {
          "base_uri": "https://localhost:8080/"
        }
      },
      "source": [
        "%%time\n",
        "\n",
        "history = model.fit(X_train, y_train,\n",
        "                    batch_size=128,\n",
        "                    epochs=20,\n",
        "                    validation_data=(X_val, y_val))"
      ],
      "execution_count": 42,
      "outputs": [
        {
          "output_type": "stream",
          "name": "stdout",
          "text": [
            "Epoch 1/20\n",
            "71/71 [==============================] - 4s 43ms/step - loss: 622484.2500 - accuracy: 0.0000e+00 - val_loss: -401972.3438 - val_accuracy: 0.0000e+00\n",
            "Epoch 2/20\n",
            "71/71 [==============================] - 3s 49ms/step - loss: -979756.3750 - accuracy: 0.0000e+00 - val_loss: -235905.3281 - val_accuracy: 0.0000e+00\n",
            "Epoch 3/20\n",
            "71/71 [==============================] - 3s 42ms/step - loss: -2616254.0000 - accuracy: 0.0000e+00 - val_loss: -208914.3438 - val_accuracy: 0.0000e+00\n",
            "Epoch 4/20\n",
            "71/71 [==============================] - 3s 39ms/step - loss: -4091268.0000 - accuracy: 0.0000e+00 - val_loss: -599124.1875 - val_accuracy: 0.0000e+00\n",
            "Epoch 5/20\n",
            "71/71 [==============================] - 3s 44ms/step - loss: -6992905.0000 - accuracy: 0.0000e+00 - val_loss: 1090597.2500 - val_accuracy: 0.0000e+00\n",
            "Epoch 6/20\n",
            "71/71 [==============================] - 3s 38ms/step - loss: -9927097.0000 - accuracy: 0.0000e+00 - val_loss: 3126548.5000 - val_accuracy: 0.0000e+00\n",
            "Epoch 7/20\n",
            "71/71 [==============================] - 3s 38ms/step - loss: -14250524.0000 - accuracy: 0.0000e+00 - val_loss: 4506176.5000 - val_accuracy: 0.0000e+00\n",
            "Epoch 8/20\n",
            "71/71 [==============================] - 3s 43ms/step - loss: -19455996.0000 - accuracy: 0.0000e+00 - val_loss: 4660242.0000 - val_accuracy: 0.0000e+00\n",
            "Epoch 9/20\n",
            "71/71 [==============================] - 4s 50ms/step - loss: -26106830.0000 - accuracy: 0.0000e+00 - val_loss: 3876717.0000 - val_accuracy: 0.0000e+00\n",
            "Epoch 10/20\n",
            "71/71 [==============================] - 3s 44ms/step - loss: -35266036.0000 - accuracy: 0.0000e+00 - val_loss: 5362220.5000 - val_accuracy: 0.0000e+00\n",
            "Epoch 11/20\n",
            "71/71 [==============================] - 3s 45ms/step - loss: -44886172.0000 - accuracy: 0.0000e+00 - val_loss: 8020354.0000 - val_accuracy: 0.0000e+00\n",
            "Epoch 12/20\n",
            "71/71 [==============================] - 4s 50ms/step - loss: -57910936.0000 - accuracy: 0.0000e+00 - val_loss: 11634924.0000 - val_accuracy: 0.0000e+00\n",
            "Epoch 13/20\n",
            "71/71 [==============================] - 4s 63ms/step - loss: -72543712.0000 - accuracy: 0.0000e+00 - val_loss: 10727515.0000 - val_accuracy: 0.0000e+00\n",
            "Epoch 14/20\n",
            "71/71 [==============================] - 3s 43ms/step - loss: -86027592.0000 - accuracy: 0.0000e+00 - val_loss: 15486466.0000 - val_accuracy: 0.0000e+00\n",
            "Epoch 15/20\n",
            "71/71 [==============================] - 3s 46ms/step - loss: -106864184.0000 - accuracy: 0.0000e+00 - val_loss: 15831460.0000 - val_accuracy: 0.0000e+00\n",
            "Epoch 16/20\n",
            "71/71 [==============================] - 3s 44ms/step - loss: -128564088.0000 - accuracy: 0.0000e+00 - val_loss: 21000360.0000 - val_accuracy: 0.0000e+00\n",
            "Epoch 17/20\n",
            "71/71 [==============================] - 3s 38ms/step - loss: -149380208.0000 - accuracy: 0.0000e+00 - val_loss: 15518183.0000 - val_accuracy: 0.0000e+00\n",
            "Epoch 18/20\n",
            "71/71 [==============================] - 3s 39ms/step - loss: -180248448.0000 - accuracy: 0.0000e+00 - val_loss: 23678804.0000 - val_accuracy: 0.0000e+00\n",
            "Epoch 19/20\n",
            "71/71 [==============================] - 4s 50ms/step - loss: -207907552.0000 - accuracy: 0.0000e+00 - val_loss: 27930632.0000 - val_accuracy: 0.0000e+00\n",
            "Epoch 20/20\n",
            "71/71 [==============================] - 3s 39ms/step - loss: -236510240.0000 - accuracy: 0.0000e+00 - val_loss: 37586132.0000 - val_accuracy: 0.0000e+00\n",
            "CPU times: user 1min 39s, sys: 4.43 s, total: 1min 43s\n",
            "Wall time: 1min 4s\n"
          ]
        }
      ]
    },
    {
      "cell_type": "code",
      "metadata": {
        "id": "qV91WT6sFzYc"
      },
      "source": [
        "def plot_results(history):\n",
        "    # Plot training & validation accuracy values\n",
        "    plt.plot(history.history['accuracy'])\n",
        "    plt.plot(history.history['val_accuracy'])\n",
        "    plt.title('Model accuracy')\n",
        "    plt.ylabel('Accuracy')\n",
        "    plt.xlabel('Epoch')\n",
        "    plt.legend(['Train', 'Test'], loc='upper left')\n",
        "    plt.show()\n",
        "\n",
        "    # Plot training & validation loss values\n",
        "    plt.plot(history.history['loss'])\n",
        "    plt.plot(history.history['val_loss'])\n",
        "    plt.title('Model loss')\n",
        "    plt.ylabel('Loss')\n",
        "    plt.xlabel('Epoch')\n",
        "    plt.legend(['Train', 'Test'], loc='upper left')\n",
        "    plt.show()"
      ],
      "execution_count": 48,
      "outputs": []
    },
    {
      "cell_type": "code",
      "metadata": {
        "id": "8p-D-DIfud1J",
        "outputId": "d184564b-7974-4e1f-fc0f-9c02460f1f6f",
        "colab": {
          "base_uri": "https://localhost:8080/",
          "height": 585
        }
      },
      "source": [
        "plot_results(history)"
      ],
      "execution_count": 49,
      "outputs": [
        {
          "output_type": "display_data",
          "data": {
            "text/plain": [
              "<Figure size 432x288 with 1 Axes>"
            ],
            "image/png": "[encoded data removed]"
          },
          "metadata": {
            "needs_background": "light"
          }
        },
        {
          "output_type": "display_data",
          "data": {
            "text/plain": [
              "<Figure size 432x288 with 1 Axes>"
            ],
            "image/png": "[encoded data removed]"
          },
          "metadata": {
            "needs_background": "light"
          }
        }
      ]
    }
  ]
}